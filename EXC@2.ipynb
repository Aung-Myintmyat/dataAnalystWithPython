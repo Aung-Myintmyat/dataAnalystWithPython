{
 "cells": [
  {
   "cell_type": "code",
   "execution_count": 404,
   "id": "e070705d-80fb-45ad-bf3a-4352c248a5b2",
   "metadata": {},
   "outputs": [],
   "source": [
    "import pandas as pd\n",
    "import numpy as np\n",
    "import seaborn as sns\n",
    "import matplotlib.pyplot as plt"
   ]
  },
  {
   "cell_type": "code",
   "execution_count": 406,
   "id": "fa8f53a5-cab4-4803-8faa-59ed2a26b301",
   "metadata": {},
   "outputs": [],
   "source": [
    "df = pd.read_csv(\"gross-domestic-product-march-2024-quarter.csv\")"
   ]
  },
  {
   "cell_type": "code",
   "execution_count": 262,
   "id": "2db797f4-5386-486d-be5b-c94e50cc8002",
   "metadata": {},
   "outputs": [
    {
     "data": {
      "text/html": [
       "<div>\n",
       "<style scoped>\n",
       "    .dataframe tbody tr th:only-of-type {\n",
       "        vertical-align: middle;\n",
       "    }\n",
       "\n",
       "    .dataframe tbody tr th {\n",
       "        vertical-align: top;\n",
       "    }\n",
       "\n",
       "    .dataframe thead th {\n",
       "        text-align: right;\n",
       "    }\n",
       "</style>\n",
       "<table border=\"1\" class=\"dataframe\">\n",
       "  <thead>\n",
       "    <tr style=\"text-align: right;\">\n",
       "      <th></th>\n",
       "      <th>Series_reference</th>\n",
       "      <th>Period</th>\n",
       "      <th>Data_value</th>\n",
       "      <th>STATUS</th>\n",
       "      <th>UNITS</th>\n",
       "      <th>MAGNTUDE</th>\n",
       "      <th>Subject</th>\n",
       "      <th>Group</th>\n",
       "      <th>Series_title_1</th>\n",
       "      <th>Series_title_2</th>\n",
       "      <th>Series_title_3</th>\n",
       "      <th>Series_title_4</th>\n",
       "      <th>Series_title_5</th>\n",
       "    </tr>\n",
       "  </thead>\n",
       "  <tbody>\n",
       "    <tr>\n",
       "      <th>0</th>\n",
       "      <td>SNEA.SG00NAC00B15</td>\n",
       "      <td>1972.03</td>\n",
       "      <td>6990.0</td>\n",
       "      <td>FINAL</td>\n",
       "      <td>Dollars</td>\n",
       "      <td>6</td>\n",
       "      <td>National Accounts - SNA 2008 - SNE</td>\n",
       "      <td>Series, Key aggregates, Nominal, Actual, Total</td>\n",
       "      <td>Gross Domestic Product - expenditure measure</td>\n",
       "      <td>NaN</td>\n",
       "      <td>NaN</td>\n",
       "      <td>NaN</td>\n",
       "      <td>NaN</td>\n",
       "    </tr>\n",
       "    <tr>\n",
       "      <th>1</th>\n",
       "      <td>SNEA.SG00NAC00B15</td>\n",
       "      <td>1973.03</td>\n",
       "      <td>8080.0</td>\n",
       "      <td>FINAL</td>\n",
       "      <td>Dollars</td>\n",
       "      <td>6</td>\n",
       "      <td>National Accounts - SNA 2008 - SNE</td>\n",
       "      <td>Series, Key aggregates, Nominal, Actual, Total</td>\n",
       "      <td>Gross Domestic Product - expenditure measure</td>\n",
       "      <td>NaN</td>\n",
       "      <td>NaN</td>\n",
       "      <td>NaN</td>\n",
       "      <td>NaN</td>\n",
       "    </tr>\n",
       "    <tr>\n",
       "      <th>2</th>\n",
       "      <td>SNEA.SG00NAC00B15</td>\n",
       "      <td>1974.03</td>\n",
       "      <td>9361.0</td>\n",
       "      <td>FINAL</td>\n",
       "      <td>Dollars</td>\n",
       "      <td>6</td>\n",
       "      <td>National Accounts - SNA 2008 - SNE</td>\n",
       "      <td>Series, Key aggregates, Nominal, Actual, Total</td>\n",
       "      <td>Gross Domestic Product - expenditure measure</td>\n",
       "      <td>NaN</td>\n",
       "      <td>NaN</td>\n",
       "      <td>NaN</td>\n",
       "      <td>NaN</td>\n",
       "    </tr>\n",
       "    <tr>\n",
       "      <th>3</th>\n",
       "      <td>SNEA.SG00NAC00B15</td>\n",
       "      <td>1975.03</td>\n",
       "      <td>10203.0</td>\n",
       "      <td>FINAL</td>\n",
       "      <td>Dollars</td>\n",
       "      <td>6</td>\n",
       "      <td>National Accounts - SNA 2008 - SNE</td>\n",
       "      <td>Series, Key aggregates, Nominal, Actual, Total</td>\n",
       "      <td>Gross Domestic Product - expenditure measure</td>\n",
       "      <td>NaN</td>\n",
       "      <td>NaN</td>\n",
       "      <td>NaN</td>\n",
       "      <td>NaN</td>\n",
       "    </tr>\n",
       "    <tr>\n",
       "      <th>4</th>\n",
       "      <td>SNEA.SG00NAC00B15</td>\n",
       "      <td>1976.03</td>\n",
       "      <td>11506.0</td>\n",
       "      <td>FINAL</td>\n",
       "      <td>Dollars</td>\n",
       "      <td>6</td>\n",
       "      <td>National Accounts - SNA 2008 - SNE</td>\n",
       "      <td>Series, Key aggregates, Nominal, Actual, Total</td>\n",
       "      <td>Gross Domestic Product - expenditure measure</td>\n",
       "      <td>NaN</td>\n",
       "      <td>NaN</td>\n",
       "      <td>NaN</td>\n",
       "      <td>NaN</td>\n",
       "    </tr>\n",
       "  </tbody>\n",
       "</table>\n",
       "</div>"
      ],
      "text/plain": [
       "    Series_reference   Period  Data_value STATUS    UNITS  MAGNTUDE  \\\n",
       "0  SNEA.SG00NAC00B15  1972.03      6990.0  FINAL  Dollars         6   \n",
       "1  SNEA.SG00NAC00B15  1973.03      8080.0  FINAL  Dollars         6   \n",
       "2  SNEA.SG00NAC00B15  1974.03      9361.0  FINAL  Dollars         6   \n",
       "3  SNEA.SG00NAC00B15  1975.03     10203.0  FINAL  Dollars         6   \n",
       "4  SNEA.SG00NAC00B15  1976.03     11506.0  FINAL  Dollars         6   \n",
       "\n",
       "                              Subject  \\\n",
       "0  National Accounts - SNA 2008 - SNE   \n",
       "1  National Accounts - SNA 2008 - SNE   \n",
       "2  National Accounts - SNA 2008 - SNE   \n",
       "3  National Accounts - SNA 2008 - SNE   \n",
       "4  National Accounts - SNA 2008 - SNE   \n",
       "\n",
       "                                            Group  \\\n",
       "0  Series, Key aggregates, Nominal, Actual, Total   \n",
       "1  Series, Key aggregates, Nominal, Actual, Total   \n",
       "2  Series, Key aggregates, Nominal, Actual, Total   \n",
       "3  Series, Key aggregates, Nominal, Actual, Total   \n",
       "4  Series, Key aggregates, Nominal, Actual, Total   \n",
       "\n",
       "                                 Series_title_1 Series_title_2 Series_title_3  \\\n",
       "0  Gross Domestic Product - expenditure measure            NaN            NaN   \n",
       "1  Gross Domestic Product - expenditure measure            NaN            NaN   \n",
       "2  Gross Domestic Product - expenditure measure            NaN            NaN   \n",
       "3  Gross Domestic Product - expenditure measure            NaN            NaN   \n",
       "4  Gross Domestic Product - expenditure measure            NaN            NaN   \n",
       "\n",
       "   Series_title_4  Series_title_5  \n",
       "0             NaN             NaN  \n",
       "1             NaN             NaN  \n",
       "2             NaN             NaN  \n",
       "3             NaN             NaN  \n",
       "4             NaN             NaN  "
      ]
     },
     "execution_count": 262,
     "metadata": {},
     "output_type": "execute_result"
    }
   ],
   "source": [
    "df.head()"
   ]
  },
  {
   "cell_type": "code",
   "execution_count": 264,
   "id": "9d632a88-656c-4278-a618-381043acbb98",
   "metadata": {
    "scrolled": true
   },
   "outputs": [
    {
     "data": {
      "text/html": [
       "<div>\n",
       "<style scoped>\n",
       "    .dataframe tbody tr th:only-of-type {\n",
       "        vertical-align: middle;\n",
       "    }\n",
       "\n",
       "    .dataframe tbody tr th {\n",
       "        vertical-align: top;\n",
       "    }\n",
       "\n",
       "    .dataframe thead th {\n",
       "        text-align: right;\n",
       "    }\n",
       "</style>\n",
       "<table border=\"1\" class=\"dataframe\">\n",
       "  <thead>\n",
       "    <tr style=\"text-align: right;\">\n",
       "      <th></th>\n",
       "      <th>Series_reference</th>\n",
       "      <th>Period</th>\n",
       "      <th>Data_value</th>\n",
       "      <th>STATUS</th>\n",
       "      <th>UNITS</th>\n",
       "      <th>MAGNTUDE</th>\n",
       "      <th>Subject</th>\n",
       "      <th>Group</th>\n",
       "      <th>Series_title_1</th>\n",
       "      <th>Series_title_2</th>\n",
       "      <th>Series_title_3</th>\n",
       "      <th>Series_title_4</th>\n",
       "      <th>Series_title_5</th>\n",
       "    </tr>\n",
       "  </thead>\n",
       "  <tbody>\n",
       "    <tr>\n",
       "      <th>92688</th>\n",
       "      <td>SNEQ.SG09RSC00B15NZ</td>\n",
       "      <td>2023.03</td>\n",
       "      <td>13607.0</td>\n",
       "      <td>REVISED</td>\n",
       "      <td>Dollars</td>\n",
       "      <td>0</td>\n",
       "      <td>National Accounts - SNA 2008 - SNE</td>\n",
       "      <td>Series, Per capita measure, Chain volume, Seas...</td>\n",
       "      <td>Gross Domestic Product - expenditure measure</td>\n",
       "      <td>Per Capita in New Zealand dollars</td>\n",
       "      <td>NaN</td>\n",
       "      <td>NaN</td>\n",
       "      <td>NaN</td>\n",
       "    </tr>\n",
       "    <tr>\n",
       "      <th>92689</th>\n",
       "      <td>SNEQ.SG09RSC00B15NZ</td>\n",
       "      <td>2023.06</td>\n",
       "      <td>13584.0</td>\n",
       "      <td>REVISED</td>\n",
       "      <td>Dollars</td>\n",
       "      <td>0</td>\n",
       "      <td>National Accounts - SNA 2008 - SNE</td>\n",
       "      <td>Series, Per capita measure, Chain volume, Seas...</td>\n",
       "      <td>Gross Domestic Product - expenditure measure</td>\n",
       "      <td>Per Capita in New Zealand dollars</td>\n",
       "      <td>NaN</td>\n",
       "      <td>NaN</td>\n",
       "      <td>NaN</td>\n",
       "    </tr>\n",
       "    <tr>\n",
       "      <th>92690</th>\n",
       "      <td>SNEQ.SG09RSC00B15NZ</td>\n",
       "      <td>2023.09</td>\n",
       "      <td>13427.0</td>\n",
       "      <td>REVISED</td>\n",
       "      <td>Dollars</td>\n",
       "      <td>0</td>\n",
       "      <td>National Accounts - SNA 2008 - SNE</td>\n",
       "      <td>Series, Per capita measure, Chain volume, Seas...</td>\n",
       "      <td>Gross Domestic Product - expenditure measure</td>\n",
       "      <td>Per Capita in New Zealand dollars</td>\n",
       "      <td>NaN</td>\n",
       "      <td>NaN</td>\n",
       "      <td>NaN</td>\n",
       "    </tr>\n",
       "    <tr>\n",
       "      <th>92691</th>\n",
       "      <td>SNEQ.SG09RSC00B15NZ</td>\n",
       "      <td>2023.12</td>\n",
       "      <td>13356.0</td>\n",
       "      <td>REVISED</td>\n",
       "      <td>Dollars</td>\n",
       "      <td>0</td>\n",
       "      <td>National Accounts - SNA 2008 - SNE</td>\n",
       "      <td>Series, Per capita measure, Chain volume, Seas...</td>\n",
       "      <td>Gross Domestic Product - expenditure measure</td>\n",
       "      <td>Per Capita in New Zealand dollars</td>\n",
       "      <td>NaN</td>\n",
       "      <td>NaN</td>\n",
       "      <td>NaN</td>\n",
       "    </tr>\n",
       "    <tr>\n",
       "      <th>92692</th>\n",
       "      <td>SNEQ.SG09RSC00B15NZ</td>\n",
       "      <td>2024.03</td>\n",
       "      <td>13305.0</td>\n",
       "      <td>FINAL</td>\n",
       "      <td>Dollars</td>\n",
       "      <td>0</td>\n",
       "      <td>National Accounts - SNA 2008 - SNE</td>\n",
       "      <td>Series, Per capita measure, Chain volume, Seas...</td>\n",
       "      <td>Gross Domestic Product - expenditure measure</td>\n",
       "      <td>Per Capita in New Zealand dollars</td>\n",
       "      <td>NaN</td>\n",
       "      <td>NaN</td>\n",
       "      <td>NaN</td>\n",
       "    </tr>\n",
       "  </tbody>\n",
       "</table>\n",
       "</div>"
      ],
      "text/plain": [
       "          Series_reference   Period  Data_value   STATUS    UNITS  MAGNTUDE  \\\n",
       "92688  SNEQ.SG09RSC00B15NZ  2023.03     13607.0  REVISED  Dollars         0   \n",
       "92689  SNEQ.SG09RSC00B15NZ  2023.06     13584.0  REVISED  Dollars         0   \n",
       "92690  SNEQ.SG09RSC00B15NZ  2023.09     13427.0  REVISED  Dollars         0   \n",
       "92691  SNEQ.SG09RSC00B15NZ  2023.12     13356.0  REVISED  Dollars         0   \n",
       "92692  SNEQ.SG09RSC00B15NZ  2024.03     13305.0    FINAL  Dollars         0   \n",
       "\n",
       "                                  Subject  \\\n",
       "92688  National Accounts - SNA 2008 - SNE   \n",
       "92689  National Accounts - SNA 2008 - SNE   \n",
       "92690  National Accounts - SNA 2008 - SNE   \n",
       "92691  National Accounts - SNA 2008 - SNE   \n",
       "92692  National Accounts - SNA 2008 - SNE   \n",
       "\n",
       "                                                   Group  \\\n",
       "92688  Series, Per capita measure, Chain volume, Seas...   \n",
       "92689  Series, Per capita measure, Chain volume, Seas...   \n",
       "92690  Series, Per capita measure, Chain volume, Seas...   \n",
       "92691  Series, Per capita measure, Chain volume, Seas...   \n",
       "92692  Series, Per capita measure, Chain volume, Seas...   \n",
       "\n",
       "                                     Series_title_1  \\\n",
       "92688  Gross Domestic Product - expenditure measure   \n",
       "92689  Gross Domestic Product - expenditure measure   \n",
       "92690  Gross Domestic Product - expenditure measure   \n",
       "92691  Gross Domestic Product - expenditure measure   \n",
       "92692  Gross Domestic Product - expenditure measure   \n",
       "\n",
       "                          Series_title_2 Series_title_3  Series_title_4  \\\n",
       "92688  Per Capita in New Zealand dollars            NaN             NaN   \n",
       "92689  Per Capita in New Zealand dollars            NaN             NaN   \n",
       "92690  Per Capita in New Zealand dollars            NaN             NaN   \n",
       "92691  Per Capita in New Zealand dollars            NaN             NaN   \n",
       "92692  Per Capita in New Zealand dollars            NaN             NaN   \n",
       "\n",
       "       Series_title_5  \n",
       "92688             NaN  \n",
       "92689             NaN  \n",
       "92690             NaN  \n",
       "92691             NaN  \n",
       "92692             NaN  "
      ]
     },
     "execution_count": 264,
     "metadata": {},
     "output_type": "execute_result"
    }
   ],
   "source": [
    "df.tail()"
   ]
  },
  {
   "cell_type": "markdown",
   "id": "5a1c8de6-93b5-45be-bc9f-b922d0e2f222",
   "metadata": {},
   "source": [
    "# Sanity Check of Data  \n",
    "### (finding the missing value)"
   ]
  },
  {
   "cell_type": "code",
   "execution_count": 33,
   "id": "3b0860f2-e8c6-4aa6-82e3-a0970f158ff0",
   "metadata": {},
   "outputs": [
    {
     "data": {
      "text/plain": [
       "(92693, 13)"
      ]
     },
     "execution_count": 33,
     "metadata": {},
     "output_type": "execute_result"
    }
   ],
   "source": [
    "df.shape"
   ]
  },
  {
   "cell_type": "code",
   "execution_count": 35,
   "id": "08402854-2870-4c7b-b734-288c48ff911b",
   "metadata": {},
   "outputs": [
    {
     "name": "stdout",
     "output_type": "stream",
     "text": [
      "<class 'pandas.core.frame.DataFrame'>\n",
      "RangeIndex: 92693 entries, 0 to 92692\n",
      "Data columns (total 13 columns):\n",
      " #   Column            Non-Null Count  Dtype  \n",
      "---  ------            --------------  -----  \n",
      " 0   Series_reference  92693 non-null  object \n",
      " 1   Period            92693 non-null  float64\n",
      " 2   Data_value        90639 non-null  float64\n",
      " 3   STATUS            92693 non-null  object \n",
      " 4   UNITS             92693 non-null  object \n",
      " 5   MAGNTUDE          92693 non-null  int64  \n",
      " 6   Subject           92693 non-null  object \n",
      " 7   Group             92693 non-null  object \n",
      " 8   Series_title_1    92693 non-null  object \n",
      " 9   Series_title_2    78534 non-null  object \n",
      " 10  Series_title_3    17234 non-null  object \n",
      " 11  Series_title_4    0 non-null      float64\n",
      " 12  Series_title_5    0 non-null      float64\n",
      "dtypes: float64(4), int64(1), object(8)\n",
      "memory usage: 9.2+ MB\n"
     ]
    }
   ],
   "source": [
    "df.info()"
   ]
  },
  {
   "cell_type": "code",
   "execution_count": 37,
   "id": "d5fd2397-7f23-48ee-a4f8-256c050582b3",
   "metadata": {},
   "outputs": [
    {
     "data": {
      "text/plain": [
       "Series_reference        0\n",
       "Period                  0\n",
       "Data_value           2054\n",
       "STATUS                  0\n",
       "UNITS                   0\n",
       "MAGNTUDE                0\n",
       "Subject                 0\n",
       "Group                   0\n",
       "Series_title_1          0\n",
       "Series_title_2      14159\n",
       "Series_title_3      75459\n",
       "Series_title_4      92693\n",
       "Series_title_5      92693\n",
       "dtype: int64"
      ]
     },
     "execution_count": 37,
     "metadata": {},
     "output_type": "execute_result"
    }
   ],
   "source": [
    "df.isnull().sum()"
   ]
  },
  {
   "cell_type": "code",
   "execution_count": 39,
   "id": "8000f120-fb25-438a-a27c-38e9b74ca1fe",
   "metadata": {},
   "outputs": [
    {
     "data": {
      "text/plain": [
       "Series_reference      0.000000\n",
       "Period                0.000000\n",
       "Data_value            2.215917\n",
       "STATUS                0.000000\n",
       "UNITS                 0.000000\n",
       "MAGNTUDE              0.000000\n",
       "Subject               0.000000\n",
       "Group                 0.000000\n",
       "Series_title_1        0.000000\n",
       "Series_title_2       15.275156\n",
       "Series_title_3       81.407442\n",
       "Series_title_4      100.000000\n",
       "Series_title_5      100.000000\n",
       "dtype: float64"
      ]
     },
     "execution_count": 39,
     "metadata": {},
     "output_type": "execute_result"
    }
   ],
   "source": [
    " df.isnull().sum()/df.shape[0]*100"
   ]
  },
  {
   "cell_type": "code",
   "execution_count": 97,
   "id": "62c98ecb-e23b-4895-bdd3-baa28c9a9bc6",
   "metadata": {},
   "outputs": [
    {
     "data": {
      "text/plain": [
       "<Axes: >"
      ]
     },
     "execution_count": 97,
     "metadata": {},
     "output_type": "execute_result"
    },
    {
     "data": {
      "image/png": "[encoded data removed]",
      "text/plain": [
       "<Figure size 640x480 with 2 Axes>"
      ]
     },
     "metadata": {},
     "output_type": "display_data"
    }
   ],
   "source": [
    "sns.heatmap(df.isnull(),yticklabels=False,)"
   ]
  },
  {
   "cell_type": "code",
   "execution_count": 41,
   "id": "3354d592-31d6-4506-99e2-47f68be0d1f7",
   "metadata": {},
   "outputs": [
    {
     "data": {
      "text/plain": [
       "0"
      ]
     },
     "execution_count": 41,
     "metadata": {},
     "output_type": "execute_result"
    }
   ],
   "source": [
    "  df.duplicated().sum()"
   ]
  },
  {
   "cell_type": "code",
   "execution_count": 45,
   "id": "9c640df6-29d8-4b02-aa95-1f6cf481b8ef",
   "metadata": {},
   "outputs": [
    {
     "name": "stdout",
     "output_type": "stream",
     "text": [
      "Series_reference\n",
      "SNEQ.SG02RSC31B15PC      152\n",
      "SNEQ.SG01RAC34B0114      152\n",
      "SNEQ.SG01RSC01B01AC      152\n",
      "SNEQ.SG01RSC34B0114      152\n",
      "SNEQ.SG01RSC34B0113      152\n",
      "                        ... \n",
      "SNEA.SG02NAC14P30A13E     25\n",
      "SNEA.SG02NAC15P30DE       25\n",
      "SNEA.SG02RAC15P30DE       25\n",
      "SNEA.SG02RAC18P71CPL      25\n",
      "SNEA.SG02RAC14P30A13E     25\n",
      "Name: count, Length: 1004, dtype: int64\n",
      "******************************\n",
      "STATUS\n",
      "FINAL           80653\n",
      "REVISED          9996\n",
      "CONFIDENTIAL     2044\n",
      "Name: count, dtype: int64\n",
      "******************************\n",
      "UNITS\n",
      "Dollars    89387\n",
      "Index       2701\n",
      "Percent      605\n",
      "Name: count, dtype: int64\n",
      "******************************\n",
      "Subject\n",
      "National Accounts - SNA 2008 - SNE    92693\n",
      "Name: count, dtype: int64\n",
      "******************************\n",
      "Group\n",
      "Series, GDP(P), Chain volume, Actual, ANZSIC06 industry groups                 6435\n",
      "Series, GDP(P), Chain volume, Seasonally adjusted, ANZSIC06 industry groups    4884\n",
      "Series, GDP(P), Chain volume, Actual, HOTP industry groups                     4085\n",
      "Series, GDP(E), Chain volume, Actual, Type of import good                      3716\n",
      "Series, GDP(E), Nominal, Actual, Type of import good                           3670\n",
      "                                                                               ... \n",
      "Series, Rolling Annuals - Per Capita, Nominal, Actual, Total                    130\n",
      "Series, Capital account, Chain volume, Actual, Total                            111\n",
      "Series, Implicit price deflator, Actual, Sector of ownership                     74\n",
      "Series, Implicit price deflator, Actual, Asset type                              74\n",
      "Series, National disposable income account, Nominal, Actual, Total               53\n",
      "Name: count, Length: 82, dtype: int64\n",
      "******************************\n",
      "Series_title_1\n",
      "Gross Domestic Product - production measure     24938\n",
      "Final Consumption Expenditure                   18942\n",
      "Imports of Goods                                13957\n",
      "Gross Fixed Capital Formation                    9606\n",
      "Exports of Goods                                 6787\n",
      "Changes in Inventories                           4361\n",
      "Gross Domestic Product - expenditure measure     2707\n",
      "Gross National Expenditure                       1697\n",
      "Imports of Goods and Services                    1163\n",
      "Exports of Goods and Services                    1163\n",
      "Disposable Income - gross                        1095\n",
      "Gross Capital Formation                           962\n",
      "Actual                                            936\n",
      "Seasonally Adjusted                               936\n",
      "Exports of Services                               667\n",
      "Imports of Services                               667\n",
      "Domestic Income - gross                           481\n",
      "National Income - gross                           481\n",
      "Trading Gain or Loss                              481\n",
      "Current Transfers and Taxes, net                  333\n",
      "Investment Income, net                            333\n",
      "Name: count, dtype: int64\n",
      "******************************\n",
      "Series_title_2\n",
      "Total Market and Non-Market                                 2157\n",
      "Per Capita in New Zealand dollars                           1747\n",
      "Total All Institutional Sectors                             1391\n",
      "Manufacturing                                               1204\n",
      "Private Non Profit Organisations and Households Combined    1053\n",
      "                                                            ... \n",
      "Subsidies receivable                                         104\n",
      "Gross fixed capital formation                                104\n",
      "Changes in inventories                                       104\n",
      "Exports of goods and services                                104\n",
      "Imports of goods and services                                104\n",
      "Name: count, Length: 139, dtype: int64\n",
      "******************************\n",
      "Series_title_3\n",
      "Households                                    13309\n",
      "Total                                          1144\n",
      "Private                                         830\n",
      "General Government                              830\n",
      "All Sectors                                     497\n",
      "Rest of the world                               312\n",
      "Central government institutions                 104\n",
      "Local government institutions                   104\n",
      "Non-profit institutions serving households      104\n",
      "Name: count, dtype: int64\n",
      "******************************\n"
     ]
    }
   ],
   "source": [
    "for i in df.select_dtypes(include=\"object\").columns:\n",
    "    print(df[i].value_counts())\n",
    "    print(\"***\"*10)"
   ]
  },
  {
   "cell_type": "markdown",
   "id": "38615e78-a896-4cc3-802c-132e6646ea59",
   "metadata": {},
   "source": [
    "# Exploratory Data Analysis(EDA)"
   ]
  },
  {
   "cell_type": "code",
   "execution_count": 25,
   "id": "ab7f432f-d429-45b8-b22f-d1c8affc010a",
   "metadata": {},
   "outputs": [
    {
     "data": {
      "text/html": [
       "<div>\n",
       "<style scoped>\n",
       "    .dataframe tbody tr th:only-of-type {\n",
       "        vertical-align: middle;\n",
       "    }\n",
       "\n",
       "    .dataframe tbody tr th {\n",
       "        vertical-align: top;\n",
       "    }\n",
       "\n",
       "    .dataframe thead th {\n",
       "        text-align: right;\n",
       "    }\n",
       "</style>\n",
       "<table border=\"1\" class=\"dataframe\">\n",
       "  <thead>\n",
       "    <tr style=\"text-align: right;\">\n",
       "      <th></th>\n",
       "      <th>count</th>\n",
       "      <th>mean</th>\n",
       "      <th>std</th>\n",
       "      <th>min</th>\n",
       "      <th>25%</th>\n",
       "      <th>50%</th>\n",
       "      <th>75%</th>\n",
       "      <th>max</th>\n",
       "    </tr>\n",
       "  </thead>\n",
       "  <tbody>\n",
       "    <tr>\n",
       "      <th>Period</th>\n",
       "      <td>92693.0</td>\n",
       "      <td>2005.750783</td>\n",
       "      <td>10.836536</td>\n",
       "      <td>1972.03</td>\n",
       "      <td>1997.03</td>\n",
       "      <td>2006.06</td>\n",
       "      <td>2015.06</td>\n",
       "      <td>2024.03</td>\n",
       "    </tr>\n",
       "    <tr>\n",
       "      <th>Data_value</th>\n",
       "      <td>90639.0</td>\n",
       "      <td>11754.389978</td>\n",
       "      <td>30962.590400</td>\n",
       "      <td>-14416.00</td>\n",
       "      <td>627.00</td>\n",
       "      <td>1965.00</td>\n",
       "      <td>8459.00</td>\n",
       "      <td>422832.00</td>\n",
       "    </tr>\n",
       "    <tr>\n",
       "      <th>MAGNTUDE</th>\n",
       "      <td>92693.0</td>\n",
       "      <td>5.726517</td>\n",
       "      <td>1.251449</td>\n",
       "      <td>0.00</td>\n",
       "      <td>6.00</td>\n",
       "      <td>6.00</td>\n",
       "      <td>6.00</td>\n",
       "      <td>6.00</td>\n",
       "    </tr>\n",
       "    <tr>\n",
       "      <th>Series_title_4</th>\n",
       "      <td>0.0</td>\n",
       "      <td>NaN</td>\n",
       "      <td>NaN</td>\n",
       "      <td>NaN</td>\n",
       "      <td>NaN</td>\n",
       "      <td>NaN</td>\n",
       "      <td>NaN</td>\n",
       "      <td>NaN</td>\n",
       "    </tr>\n",
       "    <tr>\n",
       "      <th>Series_title_5</th>\n",
       "      <td>0.0</td>\n",
       "      <td>NaN</td>\n",
       "      <td>NaN</td>\n",
       "      <td>NaN</td>\n",
       "      <td>NaN</td>\n",
       "      <td>NaN</td>\n",
       "      <td>NaN</td>\n",
       "      <td>NaN</td>\n",
       "    </tr>\n",
       "  </tbody>\n",
       "</table>\n",
       "</div>"
      ],
      "text/plain": [
       "                  count          mean           std       min      25%  \\\n",
       "Period          92693.0   2005.750783     10.836536   1972.03  1997.03   \n",
       "Data_value      90639.0  11754.389978  30962.590400 -14416.00   627.00   \n",
       "MAGNTUDE        92693.0      5.726517      1.251449      0.00     6.00   \n",
       "Series_title_4      0.0           NaN           NaN       NaN      NaN   \n",
       "Series_title_5      0.0           NaN           NaN       NaN      NaN   \n",
       "\n",
       "                    50%      75%        max  \n",
       "Period          2006.06  2015.06    2024.03  \n",
       "Data_value      1965.00  8459.00  422832.00  \n",
       "MAGNTUDE           6.00     6.00       6.00  \n",
       "Series_title_4      NaN      NaN        NaN  \n",
       "Series_title_5      NaN      NaN        NaN  "
      ]
     },
     "execution_count": 25,
     "metadata": {},
     "output_type": "execute_result"
    }
   ],
   "source": [
    "df.describe().T\n"
   ]
  },
  {
   "cell_type": "code",
   "execution_count": 28,
   "id": "0e633269-163d-4932-bcd5-f3d46dbccaa6",
   "metadata": {},
   "outputs": [
    {
     "data": {
      "text/html": [
       "<div>\n",
       "<style scoped>\n",
       "    .dataframe tbody tr th:only-of-type {\n",
       "        vertical-align: middle;\n",
       "    }\n",
       "\n",
       "    .dataframe tbody tr th {\n",
       "        vertical-align: top;\n",
       "    }\n",
       "\n",
       "    .dataframe thead th {\n",
       "        text-align: right;\n",
       "    }\n",
       "</style>\n",
       "<table border=\"1\" class=\"dataframe\">\n",
       "  <thead>\n",
       "    <tr style=\"text-align: right;\">\n",
       "      <th></th>\n",
       "      <th>Series_reference</th>\n",
       "      <th>STATUS</th>\n",
       "      <th>UNITS</th>\n",
       "      <th>Subject</th>\n",
       "      <th>Group</th>\n",
       "      <th>Series_title_1</th>\n",
       "      <th>Series_title_2</th>\n",
       "      <th>Series_title_3</th>\n",
       "    </tr>\n",
       "  </thead>\n",
       "  <tbody>\n",
       "    <tr>\n",
       "      <th>count</th>\n",
       "      <td>92693</td>\n",
       "      <td>92693</td>\n",
       "      <td>92693</td>\n",
       "      <td>92693</td>\n",
       "      <td>92693</td>\n",
       "      <td>92693</td>\n",
       "      <td>78534</td>\n",
       "      <td>17234</td>\n",
       "    </tr>\n",
       "    <tr>\n",
       "      <th>unique</th>\n",
       "      <td>1004</td>\n",
       "      <td>3</td>\n",
       "      <td>3</td>\n",
       "      <td>1</td>\n",
       "      <td>82</td>\n",
       "      <td>21</td>\n",
       "      <td>139</td>\n",
       "      <td>9</td>\n",
       "    </tr>\n",
       "    <tr>\n",
       "      <th>top</th>\n",
       "      <td>SNEQ.SG02RSC31B15PC</td>\n",
       "      <td>FINAL</td>\n",
       "      <td>Dollars</td>\n",
       "      <td>National Accounts - SNA 2008 - SNE</td>\n",
       "      <td>Series, GDP(P), Chain volume, Actual, ANZSIC06...</td>\n",
       "      <td>Gross Domestic Product - production measure</td>\n",
       "      <td>Total Market and Non-Market</td>\n",
       "      <td>Households</td>\n",
       "    </tr>\n",
       "    <tr>\n",
       "      <th>freq</th>\n",
       "      <td>152</td>\n",
       "      <td>80653</td>\n",
       "      <td>89387</td>\n",
       "      <td>92693</td>\n",
       "      <td>6435</td>\n",
       "      <td>24938</td>\n",
       "      <td>2157</td>\n",
       "      <td>13309</td>\n",
       "    </tr>\n",
       "  </tbody>\n",
       "</table>\n",
       "</div>"
      ],
      "text/plain": [
       "           Series_reference STATUS    UNITS  \\\n",
       "count                 92693  92693    92693   \n",
       "unique                 1004      3        3   \n",
       "top     SNEQ.SG02RSC31B15PC  FINAL  Dollars   \n",
       "freq                    152  80653    89387   \n",
       "\n",
       "                                   Subject  \\\n",
       "count                                92693   \n",
       "unique                                   1   \n",
       "top     National Accounts - SNA 2008 - SNE   \n",
       "freq                                 92693   \n",
       "\n",
       "                                                    Group  \\\n",
       "count                                               92693   \n",
       "unique                                                 82   \n",
       "top     Series, GDP(P), Chain volume, Actual, ANZSIC06...   \n",
       "freq                                                 6435   \n",
       "\n",
       "                                     Series_title_1  \\\n",
       "count                                         92693   \n",
       "unique                                           21   \n",
       "top     Gross Domestic Product - production measure   \n",
       "freq                                          24938   \n",
       "\n",
       "                     Series_title_2 Series_title_3  \n",
       "count                         78534          17234  \n",
       "unique                          139              9  \n",
       "top     Total Market and Non-Market     Households  \n",
       "freq                           2157          13309  "
      ]
     },
     "execution_count": 28,
     "metadata": {},
     "output_type": "execute_result"
    }
   ],
   "source": [
    "df.describe(include=\"object\")"
   ]
  },
  {
   "cell_type": "code",
   "execution_count": 35,
   "id": "243ce7a8-5c0f-40de-a7a2-c2f7dda1f095",
   "metadata": {},
   "outputs": [
    {
     "data": {
      "image/png": "[encoded data removed]",
      "text/plain": [
       "<Figure size 640x480 with 1 Axes>"
      ]
     },
     "metadata": {},
     "output_type": "display_data"
    },
    {
     "data": {
      "image/png": "[encoded data removed]",
      "text/plain": [
       "<Figure size 640x480 with 1 Axes>"
      ]
     },
     "metadata": {},
     "output_type": "display_data"
    },
    {
     "data": {
      "image/png": "[encoded data removed]",
      "text/plain": [
       "<Figure size 640x480 with 1 Axes>"
      ]
     },
     "metadata": {},
     "output_type": "display_data"
    },
    {
     "data": {
      "image/png": "[encoded data removed]",
      "text/plain": [
       "<Figure size 640x480 with 1 Axes>"
      ]
     },
     "metadata": {},
     "output_type": "display_data"
    },
    {
     "data": {
      "image/png": "[encoded data removed]",
      "text/plain": [
       "<Figure size 640x480 with 1 Axes>"
      ]
     },
     "metadata": {},
     "output_type": "display_data"
    }
   ],
   "source": [
    "for i in df.select_dtypes(include=\"number\").columns:\n",
    "    sns.histplot(data=df,x=i)\n",
    "    plt.show()"
   ]
  },
  {
   "cell_type": "code",
   "execution_count": 42,
   "id": "4074a075-614b-448b-b8f5-bd1223af4748",
   "metadata": {},
   "outputs": [
    {
     "data": {
      "image/png": "[encoded data removed]",
      "text/plain": [
       "<Figure size 640x480 with 1 Axes>"
      ]
     },
     "metadata": {},
     "output_type": "display_data"
    },
    {
     "data": {
      "image/png": "[encoded data removed]",
      "text/plain": [
       "<Figure size 640x480 with 1 Axes>"
      ]
     },
     "metadata": {},
     "output_type": "display_data"
    },
    {
     "data": {
      "image/png": "[encoded data removed]",
      "text/plain": [
       "<Figure size 640x480 with 1 Axes>"
      ]
     },
     "metadata": {},
     "output_type": "display_data"
    },
    {
     "ename": "ValueError",
     "evalue": "List of boxplot statistics and `positions` values must have same the length",
     "output_type": "error",
     "traceback": [
      "\u001b[1;31m---------------------------------------------------------------------------\u001b[0m",
      "\u001b[1;31mValueError\u001b[0m                                Traceback (most recent call last)",
      "Cell \u001b[1;32mIn[42], line 2\u001b[0m\n\u001b[0;32m      1\u001b[0m \u001b[38;5;28;01mfor\u001b[39;00m i \u001b[38;5;129;01min\u001b[39;00m df\u001b[38;5;241m.\u001b[39mselect_dtypes(include\u001b[38;5;241m=\u001b[39m\u001b[38;5;124m\"\u001b[39m\u001b[38;5;124mnumber\u001b[39m\u001b[38;5;124m\"\u001b[39m)\u001b[38;5;241m.\u001b[39mcolumns:\n\u001b[1;32m----> 2\u001b[0m     sns\u001b[38;5;241m.\u001b[39mboxplot(data\u001b[38;5;241m=\u001b[39mdf,x\u001b[38;5;241m=\u001b[39mi)\n\u001b[0;32m      3\u001b[0m     plt\u001b[38;5;241m.\u001b[39mshow()\n",
      "File \u001b[1;32m~\\anaconda3\\Lib\\site-packages\\seaborn\\categorical.py:1634\u001b[0m, in \u001b[0;36mboxplot\u001b[1;34m(data, x, y, hue, order, hue_order, orient, color, palette, saturation, fill, dodge, width, gap, whis, linecolor, linewidth, fliersize, hue_norm, native_scale, log_scale, formatter, legend, ax, **kwargs)\u001b[0m\n\u001b[0;32m   1627\u001b[0m color \u001b[38;5;241m=\u001b[39m _default_color(\n\u001b[0;32m   1628\u001b[0m     ax\u001b[38;5;241m.\u001b[39mfill_between, hue, color,\n\u001b[0;32m   1629\u001b[0m     {k: v \u001b[38;5;28;01mfor\u001b[39;00m k, v \u001b[38;5;129;01min\u001b[39;00m kwargs\u001b[38;5;241m.\u001b[39mitems() \u001b[38;5;28;01mif\u001b[39;00m k \u001b[38;5;129;01min\u001b[39;00m [\u001b[38;5;124m\"\u001b[39m\u001b[38;5;124mc\u001b[39m\u001b[38;5;124m\"\u001b[39m, \u001b[38;5;124m\"\u001b[39m\u001b[38;5;124mcolor\u001b[39m\u001b[38;5;124m\"\u001b[39m, \u001b[38;5;124m\"\u001b[39m\u001b[38;5;124mfc\u001b[39m\u001b[38;5;124m\"\u001b[39m, \u001b[38;5;124m\"\u001b[39m\u001b[38;5;124mfacecolor\u001b[39m\u001b[38;5;124m\"\u001b[39m]},\n\u001b[0;32m   1630\u001b[0m     saturation\u001b[38;5;241m=\u001b[39msaturation,\n\u001b[0;32m   1631\u001b[0m )\n\u001b[0;32m   1632\u001b[0m linecolor \u001b[38;5;241m=\u001b[39m p\u001b[38;5;241m.\u001b[39m_complement_color(linecolor, color, p\u001b[38;5;241m.\u001b[39m_hue_map)\n\u001b[1;32m-> 1634\u001b[0m p\u001b[38;5;241m.\u001b[39mplot_boxes(\n\u001b[0;32m   1635\u001b[0m     width\u001b[38;5;241m=\u001b[39mwidth,\n\u001b[0;32m   1636\u001b[0m     dodge\u001b[38;5;241m=\u001b[39mdodge,\n\u001b[0;32m   1637\u001b[0m     gap\u001b[38;5;241m=\u001b[39mgap,\n\u001b[0;32m   1638\u001b[0m     fill\u001b[38;5;241m=\u001b[39mfill,\n\u001b[0;32m   1639\u001b[0m     whis\u001b[38;5;241m=\u001b[39mwhis,\n\u001b[0;32m   1640\u001b[0m     color\u001b[38;5;241m=\u001b[39mcolor,\n\u001b[0;32m   1641\u001b[0m     linecolor\u001b[38;5;241m=\u001b[39mlinecolor,\n\u001b[0;32m   1642\u001b[0m     linewidth\u001b[38;5;241m=\u001b[39mlinewidth,\n\u001b[0;32m   1643\u001b[0m     fliersize\u001b[38;5;241m=\u001b[39mfliersize,\n\u001b[0;32m   1644\u001b[0m     plot_kws\u001b[38;5;241m=\u001b[39mkwargs,\n\u001b[0;32m   1645\u001b[0m )\n\u001b[0;32m   1647\u001b[0m p\u001b[38;5;241m.\u001b[39m_add_axis_labels(ax)\n\u001b[0;32m   1648\u001b[0m p\u001b[38;5;241m.\u001b[39m_adjust_cat_axis(ax, axis\u001b[38;5;241m=\u001b[39mp\u001b[38;5;241m.\u001b[39morient)\n",
      "File \u001b[1;32m~\\anaconda3\\Lib\\site-packages\\seaborn\\categorical.py:700\u001b[0m, in \u001b[0;36m_CategoricalPlotter.plot_boxes\u001b[1;34m(self, width, dodge, gap, fill, whis, color, linecolor, linewidth, fliersize, plot_kws)\u001b[0m\n\u001b[0;32m    679\u001b[0m default_kws \u001b[38;5;241m=\u001b[39m \u001b[38;5;28mdict\u001b[39m(\n\u001b[0;32m    680\u001b[0m     bxpstats\u001b[38;5;241m=\u001b[39mstats\u001b[38;5;241m.\u001b[39mto_dict(\u001b[38;5;124m\"\u001b[39m\u001b[38;5;124mrecords\u001b[39m\u001b[38;5;124m\"\u001b[39m),\n\u001b[0;32m    681\u001b[0m     positions\u001b[38;5;241m=\u001b[39mdata[\u001b[38;5;28mself\u001b[39m\u001b[38;5;241m.\u001b[39morient],\n\u001b[1;32m   (...)\u001b[0m\n\u001b[0;32m    697\u001b[0m     )\n\u001b[0;32m    698\u001b[0m )\n\u001b[0;32m    699\u001b[0m boxplot_kws \u001b[38;5;241m=\u001b[39m {\u001b[38;5;241m*\u001b[39m\u001b[38;5;241m*\u001b[39mdefault_kws, \u001b[38;5;241m*\u001b[39m\u001b[38;5;241m*\u001b[39mplot_kws}\n\u001b[1;32m--> 700\u001b[0m artists \u001b[38;5;241m=\u001b[39m ax\u001b[38;5;241m.\u001b[39mbxp(\u001b[38;5;241m*\u001b[39m\u001b[38;5;241m*\u001b[39mboxplot_kws)\n\u001b[0;32m    702\u001b[0m \u001b[38;5;66;03m# Reset artist widths after adding so everything stays positive\u001b[39;00m\n\u001b[0;32m    703\u001b[0m ori_idx \u001b[38;5;241m=\u001b[39m [\u001b[38;5;124m\"\u001b[39m\u001b[38;5;124mx\u001b[39m\u001b[38;5;124m\"\u001b[39m, \u001b[38;5;124m\"\u001b[39m\u001b[38;5;124my\u001b[39m\u001b[38;5;124m\"\u001b[39m]\u001b[38;5;241m.\u001b[39mindex(\u001b[38;5;28mself\u001b[39m\u001b[38;5;241m.\u001b[39morient)\n",
      "File \u001b[1;32m~\\anaconda3\\Lib\\site-packages\\matplotlib\\axes\\_axes.py:4234\u001b[0m, in \u001b[0;36mAxes.bxp\u001b[1;34m(self, bxpstats, positions, widths, vert, patch_artist, shownotches, showmeans, showcaps, showbox, showfliers, boxprops, whiskerprops, flierprops, medianprops, capprops, meanprops, meanline, manage_ticks, zorder, capwidths)\u001b[0m\n\u001b[0;32m   4232\u001b[0m     positions \u001b[38;5;241m=\u001b[39m \u001b[38;5;28mlist\u001b[39m(\u001b[38;5;28mrange\u001b[39m(\u001b[38;5;241m1\u001b[39m, N \u001b[38;5;241m+\u001b[39m \u001b[38;5;241m1\u001b[39m))\n\u001b[0;32m   4233\u001b[0m \u001b[38;5;28;01melif\u001b[39;00m \u001b[38;5;28mlen\u001b[39m(positions) \u001b[38;5;241m!=\u001b[39m N:\n\u001b[1;32m-> 4234\u001b[0m     \u001b[38;5;28;01mraise\u001b[39;00m \u001b[38;5;167;01mValueError\u001b[39;00m(datashape_message\u001b[38;5;241m.\u001b[39mformat(\u001b[38;5;124m\"\u001b[39m\u001b[38;5;124mpositions\u001b[39m\u001b[38;5;124m\"\u001b[39m))\n\u001b[0;32m   4236\u001b[0m positions \u001b[38;5;241m=\u001b[39m np\u001b[38;5;241m.\u001b[39marray(positions)\n\u001b[0;32m   4237\u001b[0m \u001b[38;5;28;01mif\u001b[39;00m \u001b[38;5;28mlen\u001b[39m(positions) \u001b[38;5;241m>\u001b[39m \u001b[38;5;241m0\u001b[39m \u001b[38;5;129;01mand\u001b[39;00m \u001b[38;5;129;01mnot\u001b[39;00m \u001b[38;5;28mall\u001b[39m(\u001b[38;5;28misinstance\u001b[39m(p, Real) \u001b[38;5;28;01mfor\u001b[39;00m p \u001b[38;5;129;01min\u001b[39;00m positions):\n",
      "\u001b[1;31mValueError\u001b[0m: List of boxplot statistics and `positions` values must have same the length"
     ]
    },
    {
     "data": {
      "image/png": "[encoded data removed]",
      "text/plain": [
       "<Figure size 640x480 with 1 Axes>"
      ]
     },
     "metadata": {},
     "output_type": "display_data"
    }
   ],
   "source": [
    "for i in df.select_dtypes(include=\"number\").columns:\n",
    "    sns.boxplot(data=df,x=i)\n",
    "    plt.show()"
   ]
  },
  {
   "cell_type": "code",
   "execution_count": 51,
   "id": "8d75fdcc-e75f-4fdf-bf42-a1d5344808c3",
   "metadata": {},
   "outputs": [
    {
     "data": {
      "image/png": "[encoded data removed]",
      "text/plain": [
       "<Figure size 640x480 with 1 Axes>"
      ]
     },
     "metadata": {},
     "output_type": "display_data"
    },
    {
     "data": {
      "image/png": "[encoded data removed]",
      "text/plain": [
       "<Figure size 640x480 with 1 Axes>"
      ]
     },
     "metadata": {},
     "output_type": "display_data"
    }
   ],
   "source": [
    "for i in [ 'Data_value', 'MAGNTUDE']:\n",
    "    sns.scatterplot(data=df,x=i,y='Period')\n",
    "    plt.show()"
   ]
  },
  {
   "cell_type": "code",
   "execution_count": 44,
   "id": "0742192f-5cf4-4fe4-aec4-33f463395456",
   "metadata": {},
   "outputs": [
    {
     "data": {
      "text/plain": [
       "Index(['Period', 'Data_value', 'MAGNTUDE', 'Series_title_4', 'Series_title_5'], dtype='object')"
      ]
     },
     "execution_count": 44,
     "metadata": {},
     "output_type": "execute_result"
    }
   ],
   "source": [
    "df.select_dtypes(include=\"number\").columns"
   ]
  },
  {
   "cell_type": "code",
   "execution_count": 57,
   "id": "8520a514-8b9a-492e-96d2-c616169d4953",
   "metadata": {},
   "outputs": [],
   "source": [
    "s = df.select_dtypes(include=\"number\").corr()"
   ]
  },
  {
   "cell_type": "code",
   "execution_count": 61,
   "id": "15618746-604c-4f9d-8fde-f7c63c08b34a",
   "metadata": {},
   "outputs": [
    {
     "data": {
      "text/html": [
       "<div>\n",
       "<style scoped>\n",
       "    .dataframe tbody tr th:only-of-type {\n",
       "        vertical-align: middle;\n",
       "    }\n",
       "\n",
       "    .dataframe tbody tr th {\n",
       "        vertical-align: top;\n",
       "    }\n",
       "\n",
       "    .dataframe thead th {\n",
       "        text-align: right;\n",
       "    }\n",
       "</style>\n",
       "<table border=\"1\" class=\"dataframe\">\n",
       "  <thead>\n",
       "    <tr style=\"text-align: right;\">\n",
       "      <th></th>\n",
       "      <th>Period</th>\n",
       "      <th>Data_value</th>\n",
       "      <th>MAGNTUDE</th>\n",
       "      <th>Series_title_4</th>\n",
       "      <th>Series_title_5</th>\n",
       "    </tr>\n",
       "  </thead>\n",
       "  <tbody>\n",
       "    <tr>\n",
       "      <th>Period</th>\n",
       "      <td>1.000000</td>\n",
       "      <td>0.139475</td>\n",
       "      <td>-0.000519</td>\n",
       "      <td>NaN</td>\n",
       "      <td>NaN</td>\n",
       "    </tr>\n",
       "    <tr>\n",
       "      <th>Data_value</th>\n",
       "      <td>0.139475</td>\n",
       "      <td>1.000000</td>\n",
       "      <td>0.034094</td>\n",
       "      <td>NaN</td>\n",
       "      <td>NaN</td>\n",
       "    </tr>\n",
       "    <tr>\n",
       "      <th>MAGNTUDE</th>\n",
       "      <td>-0.000519</td>\n",
       "      <td>0.034094</td>\n",
       "      <td>1.000000</td>\n",
       "      <td>NaN</td>\n",
       "      <td>NaN</td>\n",
       "    </tr>\n",
       "    <tr>\n",
       "      <th>Series_title_4</th>\n",
       "      <td>NaN</td>\n",
       "      <td>NaN</td>\n",
       "      <td>NaN</td>\n",
       "      <td>NaN</td>\n",
       "      <td>NaN</td>\n",
       "    </tr>\n",
       "    <tr>\n",
       "      <th>Series_title_5</th>\n",
       "      <td>NaN</td>\n",
       "      <td>NaN</td>\n",
       "      <td>NaN</td>\n",
       "      <td>NaN</td>\n",
       "      <td>NaN</td>\n",
       "    </tr>\n",
       "  </tbody>\n",
       "</table>\n",
       "</div>"
      ],
      "text/plain": [
       "                  Period  Data_value  MAGNTUDE  Series_title_4  Series_title_5\n",
       "Period          1.000000    0.139475 -0.000519             NaN             NaN\n",
       "Data_value      0.139475    1.000000  0.034094             NaN             NaN\n",
       "MAGNTUDE       -0.000519    0.034094  1.000000             NaN             NaN\n",
       "Series_title_4       NaN         NaN       NaN             NaN             NaN\n",
       "Series_title_5       NaN         NaN       NaN             NaN             NaN"
      ]
     },
     "execution_count": 61,
     "metadata": {},
     "output_type": "execute_result"
    }
   ],
   "source": [
    "s"
   ]
  },
  {
   "cell_type": "code",
   "execution_count": 63,
   "id": "96d829c3-d8fc-4f30-af7f-86e24e3b37b1",
   "metadata": {},
   "outputs": [
    {
     "data": {
      "text/plain": [
       "<Axes: >"
      ]
     },
     "execution_count": 63,
     "metadata": {},
     "output_type": "execute_result"
    },
    {
     "data": {
      "image/png": "[encoded data removed]",
      "text/plain": [
       "<Figure size 640x480 with 2 Axes>"
      ]
     },
     "metadata": {},
     "output_type": "display_data"
    }
   ],
   "source": [
    " sns.heatmap(s,annot=True)"
   ]
  },
  {
   "cell_type": "markdown",
   "id": "95bf4084-fb55-4a93-b4ac-59fbcce71389",
   "metadata": {},
   "source": [
    "# Missing value treatmeant"
   ]
  },
  {
   "cell_type": "code",
   "execution_count": 408,
   "id": "f1701ccf-aba6-42ec-9631-993261bf780b",
   "metadata": {},
   "outputs": [],
   "source": [
    "df.drop(['Series_title_3','Series_title_4', 'Series_title_5'], axis=1, inplace=True)"
   ]
  },
  {
   "cell_type": "code",
   "execution_count": 153,
   "id": "4c283ef4-8625-4bd4-a8af-d1b8fec05b10",
   "metadata": {},
   "outputs": [
    {
     "data": {
      "text/plain": [
       "(92693, 10)"
      ]
     },
     "execution_count": 153,
     "metadata": {},
     "output_type": "execute_result"
    }
   ],
   "source": [
    "df.shape"
   ]
  },
  {
   "cell_type": "code",
   "execution_count": 410,
   "id": "e44af9db-a548-4953-8427-b590f19cbacd",
   "metadata": {},
   "outputs": [
    {
     "name": "stderr",
     "output_type": "stream",
     "text": [
      "C:\\Users\\HP Notebook\\AppData\\Local\\Temp\\ipykernel_22280\\2135391853.py:2: FutureWarning: A value is trying to be set on a copy of a DataFrame or Series through chained assignment using an inplace method.\n",
      "The behavior will change in pandas 3.0. This inplace method will never work because the intermediate object on which we are setting values always behaves as a copy.\n",
      "\n",
      "For example, when doing 'df[col].method(value, inplace=True)', try using 'df.method({col: value}, inplace=True)' or df[col] = df[col].method(value) instead, to perform the operation inplace on the original object.\n",
      "\n",
      "\n",
      "  df[i].fillna(df[i].median(),inplace=True)\n"
     ]
    }
   ],
   "source": [
    "for i in [\"Data_value\"]:\n",
    "    df[i].fillna(df[i].median(),inplace=True)"
   ]
  },
  {
   "cell_type": "code",
   "execution_count": 412,
   "id": "58c08ed6-6995-467f-86a2-940e1c407ef6",
   "metadata": {},
   "outputs": [
    {
     "name": "stderr",
     "output_type": "stream",
     "text": [
      "C:\\Users\\HP Notebook\\AppData\\Local\\Temp\\ipykernel_22280\\1705177153.py:1: FutureWarning: A value is trying to be set on a copy of a DataFrame or Series through chained assignment using an inplace method.\n",
      "The behavior will change in pandas 3.0. This inplace method will never work because the intermediate object on which we are setting values always behaves as a copy.\n",
      "\n",
      "For example, when doing 'df[col].method(value, inplace=True)', try using 'df.method({col: value}, inplace=True)' or df[col] = df[col].method(value) instead, to perform the operation inplace on the original object.\n",
      "\n",
      "\n",
      "  df['Series_title_2'].fillna('Unknown', inplace=True)\n"
     ]
    }
   ],
   "source": [
    " df['Series_title_2'].fillna('Unknown', inplace=True)"
   ]
  },
  {
   "cell_type": "code",
   "execution_count": 414,
   "id": "99f00fce-9a38-47ff-96b0-794f090cebe4",
   "metadata": {},
   "outputs": [
    {
     "data": {
      "text/plain": [
       "Series_reference    0\n",
       "Period              0\n",
       "Data_value          0\n",
       "STATUS              0\n",
       "UNITS               0\n",
       "MAGNTUDE            0\n",
       "Subject             0\n",
       "Group               0\n",
       "Series_title_1      0\n",
       "Series_title_2      0\n",
       "dtype: int64"
      ]
     },
     "execution_count": 414,
     "metadata": {},
     "output_type": "execute_result"
    }
   ],
   "source": [
    "df.isnull().sum()"
   ]
  },
  {
   "cell_type": "markdown",
   "id": "8b526d58-7abd-4f52-b9ff-aaa009936a37",
   "metadata": {},
   "source": [
    "# Outlier value treatment"
   ]
  },
  {
   "cell_type": "code",
   "execution_count": 416,
   "id": "06ad3ba8-7cbc-437b-b4f9-332488246b3b",
   "metadata": {},
   "outputs": [],
   "source": [
    "def wisker(col):\n",
    "    q1,q3=np.percentile(col,[25,75])\n",
    "    iqr=q3-q1\n",
    "    lw=q1-1.5*iqr\n",
    "    uw=q3+1.5*iqr\n",
    "    return  lw,uw"
   ]
  },
  {
   "cell_type": "code",
   "execution_count": 418,
   "id": "5ff6e481-82a4-48aa-a06b-59b0de16dc48",
   "metadata": {},
   "outputs": [
    {
     "data": {
      "text/plain": [
       "(-10516.5, 19255.5)"
      ]
     },
     "execution_count": 418,
     "metadata": {},
     "output_type": "execute_result"
    }
   ],
   "source": [
    "wisker(df['Data_value'])"
   ]
  },
  {
   "cell_type": "code",
   "execution_count": 420,
   "id": "2a8928d3-e8ae-4195-addb-713a074de9d4",
   "metadata": {},
   "outputs": [],
   "source": [
    "for i in ['Data_value','MAGNTUDE']:\n",
    "    lw,uw=wisker(df[i])\n",
    "    df[i]=np.where(df[i]<lw,lw,df[i])\n",
    "    df[i]=np.where(df[i]>uw,uw,df[i])"
   ]
  },
  {
   "cell_type": "code",
   "execution_count": 422,
   "id": "6d4b098e-3d0a-4389-a72a-227a677d81fa",
   "metadata": {},
   "outputs": [
    {
     "data": {
      "image/png": "[encoded data removed]",
      "text/plain": [
       "<Figure size 640x480 with 1 Axes>"
      ]
     },
     "metadata": {},
     "output_type": "display_data"
    },
    {
     "data": {
      "image/png": "[encoded data removed]",
      "text/plain": [
       "<Figure size 640x480 with 1 Axes>"
      ]
     },
     "metadata": {},
     "output_type": "display_data"
    }
   ],
   "source": [
    "for i in ['Data_value','MAGNTUDE']:\n",
    "    sns.boxplot(df[i])\n",
    "    plt.show()"
   ]
  },
  {
   "cell_type": "code",
   "execution_count": 177,
   "id": "c8a14ed7-bc4c-47b9-a8e2-cac604e2082d",
   "metadata": {},
   "outputs": [
    {
     "data": {
      "text/plain": [
       "Index(['Series_reference', 'Period', 'Data_value', 'STATUS', 'UNITS',\n",
       "       'MAGNTUDE', 'Subject', 'Group', 'Series_title_1', 'Series_title_2'],\n",
       "      dtype='object')"
      ]
     },
     "execution_count": 177,
     "metadata": {},
     "output_type": "execute_result"
    }
   ],
   "source": [
    "df.columns"
   ]
  },
  {
   "cell_type": "markdown",
   "id": "c0bf78d9-3f8a-4b11-9ee7-0b488ce67b9b",
   "metadata": {},
   "source": [
    "# Duplicates & Garbage value Treatment"
   ]
  },
  {
   "cell_type": "code",
   "execution_count": null,
   "id": "0b1e70e4-7d8c-40a2-a5fa-df7d1bc1369d",
   "metadata": {},
   "outputs": [],
   "source": [
    "# There is no Duplicates"
   ]
  },
  {
   "cell_type": "code",
   "execution_count": null,
   "id": "00f14f04-a94a-47e4-9502-a41924f34af0",
   "metadata": {},
   "outputs": [],
   "source": []
  },
  {
   "cell_type": "code",
   "execution_count": null,
   "id": "18d9dab3-76e9-4884-8b93-b677261cc273",
   "metadata": {},
   "outputs": [],
   "source": []
  },
  {
   "cell_type": "markdown",
   "id": "2c39a096-2dcb-4ed3-8e30-ca30ed9f6bf3",
   "metadata": {},
   "source": [
    "# Normalization"
   ]
  },
  {
   "cell_type": "code",
   "execution_count": 424,
   "id": "845a0c4e-9b18-401a-aa6b-3a6a769a376d",
   "metadata": {
    "scrolled": true
   },
   "outputs": [
    {
     "data": {
      "text/html": [
       "<div>\n",
       "<style scoped>\n",
       "    .dataframe tbody tr th:only-of-type {\n",
       "        vertical-align: middle;\n",
       "    }\n",
       "\n",
       "    .dataframe tbody tr th {\n",
       "        vertical-align: top;\n",
       "    }\n",
       "\n",
       "    .dataframe thead th {\n",
       "        text-align: right;\n",
       "    }\n",
       "</style>\n",
       "<table border=\"1\" class=\"dataframe\">\n",
       "  <thead>\n",
       "    <tr style=\"text-align: right;\">\n",
       "      <th></th>\n",
       "      <th>Series_reference</th>\n",
       "      <th>Period</th>\n",
       "      <th>Data_value</th>\n",
       "      <th>STATUS</th>\n",
       "      <th>UNITS</th>\n",
       "      <th>MAGNTUDE</th>\n",
       "      <th>Subject</th>\n",
       "      <th>Group</th>\n",
       "      <th>Series_title_1</th>\n",
       "      <th>Series_title_2</th>\n",
       "    </tr>\n",
       "  </thead>\n",
       "  <tbody>\n",
       "    <tr>\n",
       "      <th>0</th>\n",
       "      <td>SNEA.SG00NAC00B15</td>\n",
       "      <td>1972.03</td>\n",
       "      <td>6990.0</td>\n",
       "      <td>FINAL</td>\n",
       "      <td>Dollars</td>\n",
       "      <td>6.0</td>\n",
       "      <td>National Accounts - SNA 2008 - SNE</td>\n",
       "      <td>Series, Key aggregates, Nominal, Actual, Total</td>\n",
       "      <td>Gross Domestic Product - expenditure measure</td>\n",
       "      <td>Unknown</td>\n",
       "    </tr>\n",
       "    <tr>\n",
       "      <th>1</th>\n",
       "      <td>SNEA.SG00NAC00B15</td>\n",
       "      <td>1973.03</td>\n",
       "      <td>8080.0</td>\n",
       "      <td>FINAL</td>\n",
       "      <td>Dollars</td>\n",
       "      <td>6.0</td>\n",
       "      <td>National Accounts - SNA 2008 - SNE</td>\n",
       "      <td>Series, Key aggregates, Nominal, Actual, Total</td>\n",
       "      <td>Gross Domestic Product - expenditure measure</td>\n",
       "      <td>Unknown</td>\n",
       "    </tr>\n",
       "    <tr>\n",
       "      <th>2</th>\n",
       "      <td>SNEA.SG00NAC00B15</td>\n",
       "      <td>1974.03</td>\n",
       "      <td>9361.0</td>\n",
       "      <td>FINAL</td>\n",
       "      <td>Dollars</td>\n",
       "      <td>6.0</td>\n",
       "      <td>National Accounts - SNA 2008 - SNE</td>\n",
       "      <td>Series, Key aggregates, Nominal, Actual, Total</td>\n",
       "      <td>Gross Domestic Product - expenditure measure</td>\n",
       "      <td>Unknown</td>\n",
       "    </tr>\n",
       "    <tr>\n",
       "      <th>3</th>\n",
       "      <td>SNEA.SG00NAC00B15</td>\n",
       "      <td>1975.03</td>\n",
       "      <td>10203.0</td>\n",
       "      <td>FINAL</td>\n",
       "      <td>Dollars</td>\n",
       "      <td>6.0</td>\n",
       "      <td>National Accounts - SNA 2008 - SNE</td>\n",
       "      <td>Series, Key aggregates, Nominal, Actual, Total</td>\n",
       "      <td>Gross Domestic Product - expenditure measure</td>\n",
       "      <td>Unknown</td>\n",
       "    </tr>\n",
       "    <tr>\n",
       "      <th>4</th>\n",
       "      <td>SNEA.SG00NAC00B15</td>\n",
       "      <td>1976.03</td>\n",
       "      <td>11506.0</td>\n",
       "      <td>FINAL</td>\n",
       "      <td>Dollars</td>\n",
       "      <td>6.0</td>\n",
       "      <td>National Accounts - SNA 2008 - SNE</td>\n",
       "      <td>Series, Key aggregates, Nominal, Actual, Total</td>\n",
       "      <td>Gross Domestic Product - expenditure measure</td>\n",
       "      <td>Unknown</td>\n",
       "    </tr>\n",
       "  </tbody>\n",
       "</table>\n",
       "</div>"
      ],
      "text/plain": [
       "    Series_reference   Period  Data_value STATUS    UNITS  MAGNTUDE  \\\n",
       "0  SNEA.SG00NAC00B15  1972.03      6990.0  FINAL  Dollars       6.0   \n",
       "1  SNEA.SG00NAC00B15  1973.03      8080.0  FINAL  Dollars       6.0   \n",
       "2  SNEA.SG00NAC00B15  1974.03      9361.0  FINAL  Dollars       6.0   \n",
       "3  SNEA.SG00NAC00B15  1975.03     10203.0  FINAL  Dollars       6.0   \n",
       "4  SNEA.SG00NAC00B15  1976.03     11506.0  FINAL  Dollars       6.0   \n",
       "\n",
       "                              Subject  \\\n",
       "0  National Accounts - SNA 2008 - SNE   \n",
       "1  National Accounts - SNA 2008 - SNE   \n",
       "2  National Accounts - SNA 2008 - SNE   \n",
       "3  National Accounts - SNA 2008 - SNE   \n",
       "4  National Accounts - SNA 2008 - SNE   \n",
       "\n",
       "                                            Group  \\\n",
       "0  Series, Key aggregates, Nominal, Actual, Total   \n",
       "1  Series, Key aggregates, Nominal, Actual, Total   \n",
       "2  Series, Key aggregates, Nominal, Actual, Total   \n",
       "3  Series, Key aggregates, Nominal, Actual, Total   \n",
       "4  Series, Key aggregates, Nominal, Actual, Total   \n",
       "\n",
       "                                 Series_title_1 Series_title_2  \n",
       "0  Gross Domestic Product - expenditure measure        Unknown  \n",
       "1  Gross Domestic Product - expenditure measure        Unknown  \n",
       "2  Gross Domestic Product - expenditure measure        Unknown  \n",
       "3  Gross Domestic Product - expenditure measure        Unknown  \n",
       "4  Gross Domestic Product - expenditure measure        Unknown  "
      ]
     },
     "execution_count": 424,
     "metadata": {},
     "output_type": "execute_result"
    }
   ],
   "source": [
    "df.head()"
   ]
  },
  {
   "cell_type": "code",
   "execution_count": 426,
   "id": "b97bf672-dbba-4966-934c-a0b2bc568621",
   "metadata": {},
   "outputs": [
    {
     "data": {
      "text/html": [
       "<div>\n",
       "<style scoped>\n",
       "    .dataframe tbody tr th:only-of-type {\n",
       "        vertical-align: middle;\n",
       "    }\n",
       "\n",
       "    .dataframe tbody tr th {\n",
       "        vertical-align: top;\n",
       "    }\n",
       "\n",
       "    .dataframe thead th {\n",
       "        text-align: right;\n",
       "    }\n",
       "</style>\n",
       "<table border=\"1\" class=\"dataframe\">\n",
       "  <thead>\n",
       "    <tr style=\"text-align: right;\">\n",
       "      <th></th>\n",
       "      <th>Series_reference</th>\n",
       "      <th>Period</th>\n",
       "      <th>Data_value</th>\n",
       "      <th>STATUS</th>\n",
       "      <th>UNITS</th>\n",
       "      <th>MAGNTUDE</th>\n",
       "      <th>Subject</th>\n",
       "      <th>Group</th>\n",
       "      <th>Series_title_1</th>\n",
       "      <th>Series_title_2</th>\n",
       "    </tr>\n",
       "  </thead>\n",
       "  <tbody>\n",
       "    <tr>\n",
       "      <th>92688</th>\n",
       "      <td>SNEQ.SG09RSC00B15NZ</td>\n",
       "      <td>2023.03</td>\n",
       "      <td>13607.0</td>\n",
       "      <td>REVISED</td>\n",
       "      <td>Dollars</td>\n",
       "      <td>6.0</td>\n",
       "      <td>National Accounts - SNA 2008 - SNE</td>\n",
       "      <td>Series, Per capita measure, Chain volume, Seas...</td>\n",
       "      <td>Gross Domestic Product - expenditure measure</td>\n",
       "      <td>Per Capita in New Zealand dollars</td>\n",
       "    </tr>\n",
       "    <tr>\n",
       "      <th>92689</th>\n",
       "      <td>SNEQ.SG09RSC00B15NZ</td>\n",
       "      <td>2023.06</td>\n",
       "      <td>13584.0</td>\n",
       "      <td>REVISED</td>\n",
       "      <td>Dollars</td>\n",
       "      <td>6.0</td>\n",
       "      <td>National Accounts - SNA 2008 - SNE</td>\n",
       "      <td>Series, Per capita measure, Chain volume, Seas...</td>\n",
       "      <td>Gross Domestic Product - expenditure measure</td>\n",
       "      <td>Per Capita in New Zealand dollars</td>\n",
       "    </tr>\n",
       "    <tr>\n",
       "      <th>92690</th>\n",
       "      <td>SNEQ.SG09RSC00B15NZ</td>\n",
       "      <td>2023.09</td>\n",
       "      <td>13427.0</td>\n",
       "      <td>REVISED</td>\n",
       "      <td>Dollars</td>\n",
       "      <td>6.0</td>\n",
       "      <td>National Accounts - SNA 2008 - SNE</td>\n",
       "      <td>Series, Per capita measure, Chain volume, Seas...</td>\n",
       "      <td>Gross Domestic Product - expenditure measure</td>\n",
       "      <td>Per Capita in New Zealand dollars</td>\n",
       "    </tr>\n",
       "    <tr>\n",
       "      <th>92691</th>\n",
       "      <td>SNEQ.SG09RSC00B15NZ</td>\n",
       "      <td>2023.12</td>\n",
       "      <td>13356.0</td>\n",
       "      <td>REVISED</td>\n",
       "      <td>Dollars</td>\n",
       "      <td>6.0</td>\n",
       "      <td>National Accounts - SNA 2008 - SNE</td>\n",
       "      <td>Series, Per capita measure, Chain volume, Seas...</td>\n",
       "      <td>Gross Domestic Product - expenditure measure</td>\n",
       "      <td>Per Capita in New Zealand dollars</td>\n",
       "    </tr>\n",
       "    <tr>\n",
       "      <th>92692</th>\n",
       "      <td>SNEQ.SG09RSC00B15NZ</td>\n",
       "      <td>2024.03</td>\n",
       "      <td>13305.0</td>\n",
       "      <td>FINAL</td>\n",
       "      <td>Dollars</td>\n",
       "      <td>6.0</td>\n",
       "      <td>National Accounts - SNA 2008 - SNE</td>\n",
       "      <td>Series, Per capita measure, Chain volume, Seas...</td>\n",
       "      <td>Gross Domestic Product - expenditure measure</td>\n",
       "      <td>Per Capita in New Zealand dollars</td>\n",
       "    </tr>\n",
       "  </tbody>\n",
       "</table>\n",
       "</div>"
      ],
      "text/plain": [
       "          Series_reference   Period  Data_value   STATUS    UNITS  MAGNTUDE  \\\n",
       "92688  SNEQ.SG09RSC00B15NZ  2023.03     13607.0  REVISED  Dollars       6.0   \n",
       "92689  SNEQ.SG09RSC00B15NZ  2023.06     13584.0  REVISED  Dollars       6.0   \n",
       "92690  SNEQ.SG09RSC00B15NZ  2023.09     13427.0  REVISED  Dollars       6.0   \n",
       "92691  SNEQ.SG09RSC00B15NZ  2023.12     13356.0  REVISED  Dollars       6.0   \n",
       "92692  SNEQ.SG09RSC00B15NZ  2024.03     13305.0    FINAL  Dollars       6.0   \n",
       "\n",
       "                                  Subject  \\\n",
       "92688  National Accounts - SNA 2008 - SNE   \n",
       "92689  National Accounts - SNA 2008 - SNE   \n",
       "92690  National Accounts - SNA 2008 - SNE   \n",
       "92691  National Accounts - SNA 2008 - SNE   \n",
       "92692  National Accounts - SNA 2008 - SNE   \n",
       "\n",
       "                                                   Group  \\\n",
       "92688  Series, Per capita measure, Chain volume, Seas...   \n",
       "92689  Series, Per capita measure, Chain volume, Seas...   \n",
       "92690  Series, Per capita measure, Chain volume, Seas...   \n",
       "92691  Series, Per capita measure, Chain volume, Seas...   \n",
       "92692  Series, Per capita measure, Chain volume, Seas...   \n",
       "\n",
       "                                     Series_title_1  \\\n",
       "92688  Gross Domestic Product - expenditure measure   \n",
       "92689  Gross Domestic Product - expenditure measure   \n",
       "92690  Gross Domestic Product - expenditure measure   \n",
       "92691  Gross Domestic Product - expenditure measure   \n",
       "92692  Gross Domestic Product - expenditure measure   \n",
       "\n",
       "                          Series_title_2  \n",
       "92688  Per Capita in New Zealand dollars  \n",
       "92689  Per Capita in New Zealand dollars  \n",
       "92690  Per Capita in New Zealand dollars  \n",
       "92691  Per Capita in New Zealand dollars  \n",
       "92692  Per Capita in New Zealand dollars  "
      ]
     },
     "execution_count": 426,
     "metadata": {},
     "output_type": "execute_result"
    }
   ],
   "source": [
    "df.tail()"
   ]
  },
  {
   "cell_type": "code",
   "execution_count": 442,
   "id": "000c4504-1f81-4bd2-88ef-b7f7bc05f9eb",
   "metadata": {},
   "outputs": [],
   "source": [
    "from sklearn.preprocessing import LabelEncoder"
   ]
  },
  {
   "cell_type": "code",
   "execution_count": 444,
   "id": "7186cfd2-6ae8-4a73-8d53-5fb235b2cbe6",
   "metadata": {},
   "outputs": [],
   "source": [
    "encoder = LabelEncoder()"
   ]
  },
  {
   "cell_type": "code",
   "execution_count": 446,
   "id": "b2e74b2c-6dba-4f51-bbca-b1b5842f664b",
   "metadata": {},
   "outputs": [
    {
     "data": {
      "text/plain": [
       "array(['FINAL', 'REVISED', 'CONFIDENTIAL'], dtype=object)"
      ]
     },
     "execution_count": 446,
     "metadata": {},
     "output_type": "execute_result"
    }
   ],
   "source": [
    "df['STATUS'].unique()"
   ]
  },
  {
   "cell_type": "code",
   "execution_count": 448,
   "id": "a4e28681-8d3c-4c2e-aec0-cebedfcbe7e5",
   "metadata": {},
   "outputs": [
    {
     "data": {
      "text/html": [
       "<style>#sk-container-id-6 {\n",
       "  /* Definition of color scheme common for light and dark mode */\n",
       "  --sklearn-color-text: black;\n",
       "  --sklearn-color-line: gray;\n",
       "  /* Definition of color scheme for unfitted estimators */\n",
       "  --sklearn-color-unfitted-level-0: #fff5e6;\n",
       "  --sklearn-color-unfitted-level-1: #f6e4d2;\n",
       "  --sklearn-color-unfitted-level-2: #ffe0b3;\n",
       "  --sklearn-color-unfitted-level-3: chocolate;\n",
       "  /* Definition of color scheme for fitted estimators */\n",
       "  --sklearn-color-fitted-level-0: #f0f8ff;\n",
       "  --sklearn-color-fitted-level-1: #d4ebff;\n",
       "  --sklearn-color-fitted-level-2: #b3dbfd;\n",
       "  --sklearn-color-fitted-level-3: cornflowerblue;\n",
       "\n",
       "  /* Specific color for light theme */\n",
       "  --sklearn-color-text-on-default-background: var(--sg-text-color, var(--theme-code-foreground, var(--jp-content-font-color1, black)));\n",
       "  --sklearn-color-background: var(--sg-background-color, var(--theme-background, var(--jp-layout-color0, white)));\n",
       "  --sklearn-color-border-box: var(--sg-text-color, var(--theme-code-foreground, var(--jp-content-font-color1, black)));\n",
       "  --sklearn-color-icon: #696969;\n",
       "\n",
       "  @media (prefers-color-scheme: dark) {\n",
       "    /* Redefinition of color scheme for dark theme */\n",
       "    --sklearn-color-text-on-default-background: var(--sg-text-color, var(--theme-code-foreground, var(--jp-content-font-color1, white)));\n",
       "    --sklearn-color-background: var(--sg-background-color, var(--theme-background, var(--jp-layout-color0, #111)));\n",
       "    --sklearn-color-border-box: var(--sg-text-color, var(--theme-code-foreground, var(--jp-content-font-color1, white)));\n",
       "    --sklearn-color-icon: #878787;\n",
       "  }\n",
       "}\n",
       "\n",
       "#sk-container-id-6 {\n",
       "  color: var(--sklearn-color-text);\n",
       "}\n",
       "\n",
       "#sk-container-id-6 pre {\n",
       "  padding: 0;\n",
       "}\n",
       "\n",
       "#sk-container-id-6 input.sk-hidden--visually {\n",
       "  border: 0;\n",
       "  clip: rect(1px 1px 1px 1px);\n",
       "  clip: rect(1px, 1px, 1px, 1px);\n",
       "  height: 1px;\n",
       "  margin: -1px;\n",
       "  overflow: hidden;\n",
       "  padding: 0;\n",
       "  position: absolute;\n",
       "  width: 1px;\n",
       "}\n",
       "\n",
       "#sk-container-id-6 div.sk-dashed-wrapped {\n",
       "  border: 1px dashed var(--sklearn-color-line);\n",
       "  margin: 0 0.4em 0.5em 0.4em;\n",
       "  box-sizing: border-box;\n",
       "  padding-bottom: 0.4em;\n",
       "  background-color: var(--sklearn-color-background);\n",
       "}\n",
       "\n",
       "#sk-container-id-6 div.sk-container {\n",
       "  /* jupyter's `normalize.less` sets `[hidden] { display: none; }`\n",
       "     but bootstrap.min.css set `[hidden] { display: none !important; }`\n",
       "     so we also need the `!important` here to be able to override the\n",
       "     default hidden behavior on the sphinx rendered scikit-learn.org.\n",
       "     See: https://github.com/scikit-learn/scikit-learn/issues/21755 */\n",
       "  display: inline-block !important;\n",
       "  position: relative;\n",
       "}\n",
       "\n",
       "#sk-container-id-6 div.sk-text-repr-fallback {\n",
       "  display: none;\n",
       "}\n",
       "\n",
       "div.sk-parallel-item,\n",
       "div.sk-serial,\n",
       "div.sk-item {\n",
       "  /* draw centered vertical line to link estimators */\n",
       "  background-image: linear-gradient(var(--sklearn-color-text-on-default-background), var(--sklearn-color-text-on-default-background));\n",
       "  background-size: 2px 100%;\n",
       "  background-repeat: no-repeat;\n",
       "  background-position: center center;\n",
       "}\n",
       "\n",
       "/* Parallel-specific style estimator block */\n",
       "\n",
       "#sk-container-id-6 div.sk-parallel-item::after {\n",
       "  content: \"\";\n",
       "  width: 100%;\n",
       "  border-bottom: 2px solid var(--sklearn-color-text-on-default-background);\n",
       "  flex-grow: 1;\n",
       "}\n",
       "\n",
       "#sk-container-id-6 div.sk-parallel {\n",
       "  display: flex;\n",
       "  align-items: stretch;\n",
       "  justify-content: center;\n",
       "  background-color: var(--sklearn-color-background);\n",
       "  position: relative;\n",
       "}\n",
       "\n",
       "#sk-container-id-6 div.sk-parallel-item {\n",
       "  display: flex;\n",
       "  flex-direction: column;\n",
       "}\n",
       "\n",
       "#sk-container-id-6 div.sk-parallel-item:first-child::after {\n",
       "  align-self: flex-end;\n",
       "  width: 50%;\n",
       "}\n",
       "\n",
       "#sk-container-id-6 div.sk-parallel-item:last-child::after {\n",
       "  align-self: flex-start;\n",
       "  width: 50%;\n",
       "}\n",
       "\n",
       "#sk-container-id-6 div.sk-parallel-item:only-child::after {\n",
       "  width: 0;\n",
       "}\n",
       "\n",
       "/* Serial-specific style estimator block */\n",
       "\n",
       "#sk-container-id-6 div.sk-serial {\n",
       "  display: flex;\n",
       "  flex-direction: column;\n",
       "  align-items: center;\n",
       "  background-color: var(--sklearn-color-background);\n",
       "  padding-right: 1em;\n",
       "  padding-left: 1em;\n",
       "}\n",
       "\n",
       "\n",
       "/* Toggleable style: style used for estimator/Pipeline/ColumnTransformer box that is\n",
       "clickable and can be expanded/collapsed.\n",
       "- Pipeline and ColumnTransformer use this feature and define the default style\n",
       "- Estimators will overwrite some part of the style using the `sk-estimator` class\n",
       "*/\n",
       "\n",
       "/* Pipeline and ColumnTransformer style (default) */\n",
       "\n",
       "#sk-container-id-6 div.sk-toggleable {\n",
       "  /* Default theme specific background. It is overwritten whether we have a\n",
       "  specific estimator or a Pipeline/ColumnTransformer */\n",
       "  background-color: var(--sklearn-color-background);\n",
       "}\n",
       "\n",
       "/* Toggleable label */\n",
       "#sk-container-id-6 label.sk-toggleable__label {\n",
       "  cursor: pointer;\n",
       "  display: block;\n",
       "  width: 100%;\n",
       "  margin-bottom: 0;\n",
       "  padding: 0.5em;\n",
       "  box-sizing: border-box;\n",
       "  text-align: center;\n",
       "}\n",
       "\n",
       "#sk-container-id-6 label.sk-toggleable__label-arrow:before {\n",
       "  /* Arrow on the left of the label */\n",
       "  content: \"▸\";\n",
       "  float: left;\n",
       "  margin-right: 0.25em;\n",
       "  color: var(--sklearn-color-icon);\n",
       "}\n",
       "\n",
       "#sk-container-id-6 label.sk-toggleable__label-arrow:hover:before {\n",
       "  color: var(--sklearn-color-text);\n",
       "}\n",
       "\n",
       "/* Toggleable content - dropdown */\n",
       "\n",
       "#sk-container-id-6 div.sk-toggleable__content {\n",
       "  max-height: 0;\n",
       "  max-width: 0;\n",
       "  overflow: hidden;\n",
       "  text-align: left;\n",
       "  /* unfitted */\n",
       "  background-color: var(--sklearn-color-unfitted-level-0);\n",
       "}\n",
       "\n",
       "#sk-container-id-6 div.sk-toggleable__content.fitted {\n",
       "  /* fitted */\n",
       "  background-color: var(--sklearn-color-fitted-level-0);\n",
       "}\n",
       "\n",
       "#sk-container-id-6 div.sk-toggleable__content pre {\n",
       "  margin: 0.2em;\n",
       "  border-radius: 0.25em;\n",
       "  color: var(--sklearn-color-text);\n",
       "  /* unfitted */\n",
       "  background-color: var(--sklearn-color-unfitted-level-0);\n",
       "}\n",
       "\n",
       "#sk-container-id-6 div.sk-toggleable__content.fitted pre {\n",
       "  /* unfitted */\n",
       "  background-color: var(--sklearn-color-fitted-level-0);\n",
       "}\n",
       "\n",
       "#sk-container-id-6 input.sk-toggleable__control:checked~div.sk-toggleable__content {\n",
       "  /* Expand drop-down */\n",
       "  max-height: 200px;\n",
       "  max-width: 100%;\n",
       "  overflow: auto;\n",
       "}\n",
       "\n",
       "#sk-container-id-6 input.sk-toggleable__control:checked~label.sk-toggleable__label-arrow:before {\n",
       "  content: \"▾\";\n",
       "}\n",
       "\n",
       "/* Pipeline/ColumnTransformer-specific style */\n",
       "\n",
       "#sk-container-id-6 div.sk-label input.sk-toggleable__control:checked~label.sk-toggleable__label {\n",
       "  color: var(--sklearn-color-text);\n",
       "  background-color: var(--sklearn-color-unfitted-level-2);\n",
       "}\n",
       "\n",
       "#sk-container-id-6 div.sk-label.fitted input.sk-toggleable__control:checked~label.sk-toggleable__label {\n",
       "  background-color: var(--sklearn-color-fitted-level-2);\n",
       "}\n",
       "\n",
       "/* Estimator-specific style */\n",
       "\n",
       "/* Colorize estimator box */\n",
       "#sk-container-id-6 div.sk-estimator input.sk-toggleable__control:checked~label.sk-toggleable__label {\n",
       "  /* unfitted */\n",
       "  background-color: var(--sklearn-color-unfitted-level-2);\n",
       "}\n",
       "\n",
       "#sk-container-id-6 div.sk-estimator.fitted input.sk-toggleable__control:checked~label.sk-toggleable__label {\n",
       "  /* fitted */\n",
       "  background-color: var(--sklearn-color-fitted-level-2);\n",
       "}\n",
       "\n",
       "#sk-container-id-6 div.sk-label label.sk-toggleable__label,\n",
       "#sk-container-id-6 div.sk-label label {\n",
       "  /* The background is the default theme color */\n",
       "  color: var(--sklearn-color-text-on-default-background);\n",
       "}\n",
       "\n",
       "/* On hover, darken the color of the background */\n",
       "#sk-container-id-6 div.sk-label:hover label.sk-toggleable__label {\n",
       "  color: var(--sklearn-color-text);\n",
       "  background-color: var(--sklearn-color-unfitted-level-2);\n",
       "}\n",
       "\n",
       "/* Label box, darken color on hover, fitted */\n",
       "#sk-container-id-6 div.sk-label.fitted:hover label.sk-toggleable__label.fitted {\n",
       "  color: var(--sklearn-color-text);\n",
       "  background-color: var(--sklearn-color-fitted-level-2);\n",
       "}\n",
       "\n",
       "/* Estimator label */\n",
       "\n",
       "#sk-container-id-6 div.sk-label label {\n",
       "  font-family: monospace;\n",
       "  font-weight: bold;\n",
       "  display: inline-block;\n",
       "  line-height: 1.2em;\n",
       "}\n",
       "\n",
       "#sk-container-id-6 div.sk-label-container {\n",
       "  text-align: center;\n",
       "}\n",
       "\n",
       "/* Estimator-specific */\n",
       "#sk-container-id-6 div.sk-estimator {\n",
       "  font-family: monospace;\n",
       "  border: 1px dotted var(--sklearn-color-border-box);\n",
       "  border-radius: 0.25em;\n",
       "  box-sizing: border-box;\n",
       "  margin-bottom: 0.5em;\n",
       "  /* unfitted */\n",
       "  background-color: var(--sklearn-color-unfitted-level-0);\n",
       "}\n",
       "\n",
       "#sk-container-id-6 div.sk-estimator.fitted {\n",
       "  /* fitted */\n",
       "  background-color: var(--sklearn-color-fitted-level-0);\n",
       "}\n",
       "\n",
       "/* on hover */\n",
       "#sk-container-id-6 div.sk-estimator:hover {\n",
       "  /* unfitted */\n",
       "  background-color: var(--sklearn-color-unfitted-level-2);\n",
       "}\n",
       "\n",
       "#sk-container-id-6 div.sk-estimator.fitted:hover {\n",
       "  /* fitted */\n",
       "  background-color: var(--sklearn-color-fitted-level-2);\n",
       "}\n",
       "\n",
       "/* Specification for estimator info (e.g. \"i\" and \"?\") */\n",
       "\n",
       "/* Common style for \"i\" and \"?\" */\n",
       "\n",
       ".sk-estimator-doc-link,\n",
       "a:link.sk-estimator-doc-link,\n",
       "a:visited.sk-estimator-doc-link {\n",
       "  float: right;\n",
       "  font-size: smaller;\n",
       "  line-height: 1em;\n",
       "  font-family: monospace;\n",
       "  background-color: var(--sklearn-color-background);\n",
       "  border-radius: 1em;\n",
       "  height: 1em;\n",
       "  width: 1em;\n",
       "  text-decoration: none !important;\n",
       "  margin-left: 1ex;\n",
       "  /* unfitted */\n",
       "  border: var(--sklearn-color-unfitted-level-1) 1pt solid;\n",
       "  color: var(--sklearn-color-unfitted-level-1);\n",
       "}\n",
       "\n",
       ".sk-estimator-doc-link.fitted,\n",
       "a:link.sk-estimator-doc-link.fitted,\n",
       "a:visited.sk-estimator-doc-link.fitted {\n",
       "  /* fitted */\n",
       "  border: var(--sklearn-color-fitted-level-1) 1pt solid;\n",
       "  color: var(--sklearn-color-fitted-level-1);\n",
       "}\n",
       "\n",
       "/* On hover */\n",
       "div.sk-estimator:hover .sk-estimator-doc-link:hover,\n",
       ".sk-estimator-doc-link:hover,\n",
       "div.sk-label-container:hover .sk-estimator-doc-link:hover,\n",
       ".sk-estimator-doc-link:hover {\n",
       "  /* unfitted */\n",
       "  background-color: var(--sklearn-color-unfitted-level-3);\n",
       "  color: var(--sklearn-color-background);\n",
       "  text-decoration: none;\n",
       "}\n",
       "\n",
       "div.sk-estimator.fitted:hover .sk-estimator-doc-link.fitted:hover,\n",
       ".sk-estimator-doc-link.fitted:hover,\n",
       "div.sk-label-container:hover .sk-estimator-doc-link.fitted:hover,\n",
       ".sk-estimator-doc-link.fitted:hover {\n",
       "  /* fitted */\n",
       "  background-color: var(--sklearn-color-fitted-level-3);\n",
       "  color: var(--sklearn-color-background);\n",
       "  text-decoration: none;\n",
       "}\n",
       "\n",
       "/* Span, style for the box shown on hovering the info icon */\n",
       ".sk-estimator-doc-link span {\n",
       "  display: none;\n",
       "  z-index: 9999;\n",
       "  position: relative;\n",
       "  font-weight: normal;\n",
       "  right: .2ex;\n",
       "  padding: .5ex;\n",
       "  margin: .5ex;\n",
       "  width: min-content;\n",
       "  min-width: 20ex;\n",
       "  max-width: 50ex;\n",
       "  color: var(--sklearn-color-text);\n",
       "  box-shadow: 2pt 2pt 4pt #999;\n",
       "  /* unfitted */\n",
       "  background: var(--sklearn-color-unfitted-level-0);\n",
       "  border: .5pt solid var(--sklearn-color-unfitted-level-3);\n",
       "}\n",
       "\n",
       ".sk-estimator-doc-link.fitted span {\n",
       "  /* fitted */\n",
       "  background: var(--sklearn-color-fitted-level-0);\n",
       "  border: var(--sklearn-color-fitted-level-3);\n",
       "}\n",
       "\n",
       ".sk-estimator-doc-link:hover span {\n",
       "  display: block;\n",
       "}\n",
       "\n",
       "/* \"?\"-specific style due to the `<a>` HTML tag */\n",
       "\n",
       "#sk-container-id-6 a.estimator_doc_link {\n",
       "  float: right;\n",
       "  font-size: 1rem;\n",
       "  line-height: 1em;\n",
       "  font-family: monospace;\n",
       "  background-color: var(--sklearn-color-background);\n",
       "  border-radius: 1rem;\n",
       "  height: 1rem;\n",
       "  width: 1rem;\n",
       "  text-decoration: none;\n",
       "  /* unfitted */\n",
       "  color: var(--sklearn-color-unfitted-level-1);\n",
       "  border: var(--sklearn-color-unfitted-level-1) 1pt solid;\n",
       "}\n",
       "\n",
       "#sk-container-id-6 a.estimator_doc_link.fitted {\n",
       "  /* fitted */\n",
       "  border: var(--sklearn-color-fitted-level-1) 1pt solid;\n",
       "  color: var(--sklearn-color-fitted-level-1);\n",
       "}\n",
       "\n",
       "/* On hover */\n",
       "#sk-container-id-6 a.estimator_doc_link:hover {\n",
       "  /* unfitted */\n",
       "  background-color: var(--sklearn-color-unfitted-level-3);\n",
       "  color: var(--sklearn-color-background);\n",
       "  text-decoration: none;\n",
       "}\n",
       "\n",
       "#sk-container-id-6 a.estimator_doc_link.fitted:hover {\n",
       "  /* fitted */\n",
       "  background-color: var(--sklearn-color-fitted-level-3);\n",
       "}\n",
       "</style><div id=\"sk-container-id-6\" class=\"sk-top-container\"><div class=\"sk-text-repr-fallback\"><pre>LabelEncoder()</pre><b>In a Jupyter environment, please rerun this cell to show the HTML representation or trust the notebook. <br />On GitHub, the HTML representation is unable to render, please try loading this page with nbviewer.org.</b></div><div class=\"sk-container\" hidden><div class=\"sk-item\"><div class=\"sk-estimator fitted sk-toggleable\"><input class=\"sk-toggleable__control sk-hidden--visually\" id=\"sk-estimator-id-6\" type=\"checkbox\" checked><label for=\"sk-estimator-id-6\" class=\"sk-toggleable__label fitted sk-toggleable__label-arrow fitted\">&nbsp;&nbsp;LabelEncoder<a class=\"sk-estimator-doc-link fitted\" rel=\"noreferrer\" target=\"_blank\" href=\"https://scikit-learn.org/1.4/modules/generated/sklearn.preprocessing.LabelEncoder.html\">?<span>Documentation for LabelEncoder</span></a><span class=\"sk-estimator-doc-link fitted\">i<span>Fitted</span></span></label><div class=\"sk-toggleable__content fitted\"><pre>LabelEncoder()</pre></div> </div></div></div></div>"
      ],
      "text/plain": [
       "LabelEncoder()"
      ]
     },
     "execution_count": 448,
     "metadata": {},
     "output_type": "execute_result"
    }
   ],
   "source": [
    "encoder.fit(df['STATUS'])"
   ]
  },
  {
   "cell_type": "code",
   "execution_count": 450,
   "id": "daf9e059-02ae-49ec-a2c8-fbd03a7b1c50",
   "metadata": {
    "scrolled": true
   },
   "outputs": [
    {
     "data": {
      "text/plain": [
       "array(['CONFIDENTIAL', 'FINAL', 'REVISED'], dtype=object)"
      ]
     },
     "execution_count": 450,
     "metadata": {},
     "output_type": "execute_result"
    }
   ],
   "source": [
    "encoder.classes_"
   ]
  },
  {
   "cell_type": "code",
   "execution_count": 452,
   "id": "acbee3ea-d561-43c6-8475-deb2eaff17dc",
   "metadata": {},
   "outputs": [
    {
     "data": {
      "text/html": [
       "<div>\n",
       "<style scoped>\n",
       "    .dataframe tbody tr th:only-of-type {\n",
       "        vertical-align: middle;\n",
       "    }\n",
       "\n",
       "    .dataframe tbody tr th {\n",
       "        vertical-align: top;\n",
       "    }\n",
       "\n",
       "    .dataframe thead th {\n",
       "        text-align: right;\n",
       "    }\n",
       "</style>\n",
       "<table border=\"1\" class=\"dataframe\">\n",
       "  <thead>\n",
       "    <tr style=\"text-align: right;\">\n",
       "      <th></th>\n",
       "      <th>Series_reference</th>\n",
       "      <th>Period</th>\n",
       "      <th>Data_value</th>\n",
       "      <th>STATUS</th>\n",
       "      <th>UNITS</th>\n",
       "      <th>MAGNTUDE</th>\n",
       "      <th>Subject</th>\n",
       "      <th>Group</th>\n",
       "      <th>Series_title_1</th>\n",
       "      <th>Series_title_2</th>\n",
       "    </tr>\n",
       "  </thead>\n",
       "  <tbody>\n",
       "    <tr>\n",
       "      <th>0</th>\n",
       "      <td>SNEA.SG00NAC00B15</td>\n",
       "      <td>1972.03</td>\n",
       "      <td>6990.0</td>\n",
       "      <td>1</td>\n",
       "      <td>Dollars</td>\n",
       "      <td>6.0</td>\n",
       "      <td>National Accounts - SNA 2008 - SNE</td>\n",
       "      <td>Series, Key aggregates, Nominal, Actual, Total</td>\n",
       "      <td>Gross Domestic Product - expenditure measure</td>\n",
       "      <td>Unknown</td>\n",
       "    </tr>\n",
       "    <tr>\n",
       "      <th>1</th>\n",
       "      <td>SNEA.SG00NAC00B15</td>\n",
       "      <td>1973.03</td>\n",
       "      <td>8080.0</td>\n",
       "      <td>1</td>\n",
       "      <td>Dollars</td>\n",
       "      <td>6.0</td>\n",
       "      <td>National Accounts - SNA 2008 - SNE</td>\n",
       "      <td>Series, Key aggregates, Nominal, Actual, Total</td>\n",
       "      <td>Gross Domestic Product - expenditure measure</td>\n",
       "      <td>Unknown</td>\n",
       "    </tr>\n",
       "    <tr>\n",
       "      <th>2</th>\n",
       "      <td>SNEA.SG00NAC00B15</td>\n",
       "      <td>1974.03</td>\n",
       "      <td>9361.0</td>\n",
       "      <td>1</td>\n",
       "      <td>Dollars</td>\n",
       "      <td>6.0</td>\n",
       "      <td>National Accounts - SNA 2008 - SNE</td>\n",
       "      <td>Series, Key aggregates, Nominal, Actual, Total</td>\n",
       "      <td>Gross Domestic Product - expenditure measure</td>\n",
       "      <td>Unknown</td>\n",
       "    </tr>\n",
       "    <tr>\n",
       "      <th>3</th>\n",
       "      <td>SNEA.SG00NAC00B15</td>\n",
       "      <td>1975.03</td>\n",
       "      <td>10203.0</td>\n",
       "      <td>1</td>\n",
       "      <td>Dollars</td>\n",
       "      <td>6.0</td>\n",
       "      <td>National Accounts - SNA 2008 - SNE</td>\n",
       "      <td>Series, Key aggregates, Nominal, Actual, Total</td>\n",
       "      <td>Gross Domestic Product - expenditure measure</td>\n",
       "      <td>Unknown</td>\n",
       "    </tr>\n",
       "    <tr>\n",
       "      <th>4</th>\n",
       "      <td>SNEA.SG00NAC00B15</td>\n",
       "      <td>1976.03</td>\n",
       "      <td>11506.0</td>\n",
       "      <td>1</td>\n",
       "      <td>Dollars</td>\n",
       "      <td>6.0</td>\n",
       "      <td>National Accounts - SNA 2008 - SNE</td>\n",
       "      <td>Series, Key aggregates, Nominal, Actual, Total</td>\n",
       "      <td>Gross Domestic Product - expenditure measure</td>\n",
       "      <td>Unknown</td>\n",
       "    </tr>\n",
       "  </tbody>\n",
       "</table>\n",
       "</div>"
      ],
      "text/plain": [
       "    Series_reference   Period  Data_value  STATUS    UNITS  MAGNTUDE  \\\n",
       "0  SNEA.SG00NAC00B15  1972.03      6990.0       1  Dollars       6.0   \n",
       "1  SNEA.SG00NAC00B15  1973.03      8080.0       1  Dollars       6.0   \n",
       "2  SNEA.SG00NAC00B15  1974.03      9361.0       1  Dollars       6.0   \n",
       "3  SNEA.SG00NAC00B15  1975.03     10203.0       1  Dollars       6.0   \n",
       "4  SNEA.SG00NAC00B15  1976.03     11506.0       1  Dollars       6.0   \n",
       "\n",
       "                              Subject  \\\n",
       "0  National Accounts - SNA 2008 - SNE   \n",
       "1  National Accounts - SNA 2008 - SNE   \n",
       "2  National Accounts - SNA 2008 - SNE   \n",
       "3  National Accounts - SNA 2008 - SNE   \n",
       "4  National Accounts - SNA 2008 - SNE   \n",
       "\n",
       "                                            Group  \\\n",
       "0  Series, Key aggregates, Nominal, Actual, Total   \n",
       "1  Series, Key aggregates, Nominal, Actual, Total   \n",
       "2  Series, Key aggregates, Nominal, Actual, Total   \n",
       "3  Series, Key aggregates, Nominal, Actual, Total   \n",
       "4  Series, Key aggregates, Nominal, Actual, Total   \n",
       "\n",
       "                                 Series_title_1 Series_title_2  \n",
       "0  Gross Domestic Product - expenditure measure        Unknown  \n",
       "1  Gross Domestic Product - expenditure measure        Unknown  \n",
       "2  Gross Domestic Product - expenditure measure        Unknown  \n",
       "3  Gross Domestic Product - expenditure measure        Unknown  \n",
       "4  Gross Domestic Product - expenditure measure        Unknown  "
      ]
     },
     "execution_count": 452,
     "metadata": {},
     "output_type": "execute_result"
    }
   ],
   "source": [
    "df['STATUS'] = encoder.transform(df['STATUS'])\n",
    "df.head()"
   ]
  },
  {
   "cell_type": "code",
   "execution_count": null,
   "id": "07f25caf-79c2-4f59-817b-a7b65f07c878",
   "metadata": {},
   "outputs": [],
   "source": []
  }
 ],
 "metadata": {
  "kernelspec": {
   "display_name": "Python 3 (ipykernel)",
   "language": "python",
   "name": "python3"
  },
  "language_info": {
   "codemirror_mode": {
    "name": "ipython",
    "version": 3
   },
   "file_extension": ".py",
   "mimetype": "text/x-python",
   "name": "python",
   "nbconvert_exporter": "python",
   "pygments_lexer": "ipython3",
   "version": "3.12.4"
  }
 },
 "nbformat": 4,
 "nbformat_minor": 5
}
